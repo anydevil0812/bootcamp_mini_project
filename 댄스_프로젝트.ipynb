{
  "nbformat": 4,
  "nbformat_minor": 0,
  "metadata": {
    "colab": {
      "name": "댄스_프로젝트.ipynb",
      "provenance": [],
      "collapsed_sections": [],
      "mount_file_id": "1Ge42lARTa-UiyEO68xCW0Aw5KuIxQT6k",
      "authorship_tag": "ABX9TyNqc8vOW1gsT4nJHRSnFiiG",
      "include_colab_link": true
    },
    "kernelspec": {
      "name": "python3",
      "display_name": "Python 3"
    },
    "language_info": {
      "name": "python"
    },
    "accelerator": "GPU",
    "gpuClass": "standard",
    "widgets": {
      "application/vnd.jupyter.widget-state+json": {
        "dcaa5aabe0a54484a0d7c2bd233d5473": {
          "model_module": "@jupyter-widgets/controls",
          "model_name": "HBoxModel",
          "model_module_version": "1.5.0",
          "state": {
            "_dom_classes": [],
            "_model_module": "@jupyter-widgets/controls",
            "_model_module_version": "1.5.0",
            "_model_name": "HBoxModel",
            "_view_count": null,
            "_view_module": "@jupyter-widgets/controls",
            "_view_module_version": "1.5.0",
            "_view_name": "HBoxView",
            "box_style": "",
            "children": [
              "IPY_MODEL_580adc1564e8489db191916c82ce9405",
              "IPY_MODEL_6952d7eabe5c4de695099ef993e622d3",
              "IPY_MODEL_62220d60f91448b3a4a5e7ed97cbd70c"
            ],
            "layout": "IPY_MODEL_c5b09b2670ae40c0a1cd2c10aca163be"
          }
        },
        "580adc1564e8489db191916c82ce9405": {
          "model_module": "@jupyter-widgets/controls",
          "model_name": "HTMLModel",
          "model_module_version": "1.5.0",
          "state": {
            "_dom_classes": [],
            "_model_module": "@jupyter-widgets/controls",
            "_model_module_version": "1.5.0",
            "_model_name": "HTMLModel",
            "_view_count": null,
            "_view_module": "@jupyter-widgets/controls",
            "_view_module_version": "1.5.0",
            "_view_name": "HTMLView",
            "description": "",
            "description_tooltip": null,
            "layout": "IPY_MODEL_ab50fb554c774d3da0b569735b7d2cab",
            "placeholder": "​",
            "style": "IPY_MODEL_0bbfe3a216354befb7bbc767aea448b5",
            "value": ""
          }
        },
        "6952d7eabe5c4de695099ef993e622d3": {
          "model_module": "@jupyter-widgets/controls",
          "model_name": "FloatProgressModel",
          "model_module_version": "1.5.0",
          "state": {
            "_dom_classes": [],
            "_model_module": "@jupyter-widgets/controls",
            "_model_module_version": "1.5.0",
            "_model_name": "FloatProgressModel",
            "_view_count": null,
            "_view_module": "@jupyter-widgets/controls",
            "_view_module_version": "1.5.0",
            "_view_name": "ProgressView",
            "bar_style": "success",
            "description": "",
            "description_tooltip": null,
            "layout": "IPY_MODEL_0c5f85bf5bfd441884665065f9653e95",
            "max": 1,
            "min": 0,
            "orientation": "horizontal",
            "style": "IPY_MODEL_ba487aac335943d5ac11ff37dc493ad6",
            "value": 1
          }
        },
        "62220d60f91448b3a4a5e7ed97cbd70c": {
          "model_module": "@jupyter-widgets/controls",
          "model_name": "HTMLModel",
          "model_module_version": "1.5.0",
          "state": {
            "_dom_classes": [],
            "_model_module": "@jupyter-widgets/controls",
            "_model_module_version": "1.5.0",
            "_model_name": "HTMLModel",
            "_view_count": null,
            "_view_module": "@jupyter-widgets/controls",
            "_view_module_version": "1.5.0",
            "_view_name": "HTMLView",
            "description": "",
            "description_tooltip": null,
            "layout": "IPY_MODEL_e48b7da96452406f8c05ba67e6db98db",
            "placeholder": "​",
            "style": "IPY_MODEL_4f9b6d9ac260442faa80c609fcf4da12",
            "value": " 205/? [00:04&lt;00:00,  4.67s/it]"
          }
        },
        "c5b09b2670ae40c0a1cd2c10aca163be": {
          "model_module": "@jupyter-widgets/base",
          "model_name": "LayoutModel",
          "model_module_version": "1.2.0",
          "state": {
            "_model_module": "@jupyter-widgets/base",
            "_model_module_version": "1.2.0",
            "_model_name": "LayoutModel",
            "_view_count": null,
            "_view_module": "@jupyter-widgets/base",
            "_view_module_version": "1.2.0",
            "_view_name": "LayoutView",
            "align_content": null,
            "align_items": null,
            "align_self": null,
            "border": null,
            "bottom": null,
            "display": null,
            "flex": null,
            "flex_flow": null,
            "grid_area": null,
            "grid_auto_columns": null,
            "grid_auto_flow": null,
            "grid_auto_rows": null,
            "grid_column": null,
            "grid_gap": null,
            "grid_row": null,
            "grid_template_areas": null,
            "grid_template_columns": null,
            "grid_template_rows": null,
            "height": null,
            "justify_content": null,
            "justify_items": null,
            "left": null,
            "margin": null,
            "max_height": null,
            "max_width": null,
            "min_height": null,
            "min_width": null,
            "object_fit": null,
            "object_position": null,
            "order": null,
            "overflow": null,
            "overflow_x": null,
            "overflow_y": null,
            "padding": null,
            "right": null,
            "top": null,
            "visibility": null,
            "width": null
          }
        },
        "ab50fb554c774d3da0b569735b7d2cab": {
          "model_module": "@jupyter-widgets/base",
          "model_name": "LayoutModel",
          "model_module_version": "1.2.0",
          "state": {
            "_model_module": "@jupyter-widgets/base",
            "_model_module_version": "1.2.0",
            "_model_name": "LayoutModel",
            "_view_count": null,
            "_view_module": "@jupyter-widgets/base",
            "_view_module_version": "1.2.0",
            "_view_name": "LayoutView",
            "align_content": null,
            "align_items": null,
            "align_self": null,
            "border": null,
            "bottom": null,
            "display": null,
            "flex": null,
            "flex_flow": null,
            "grid_area": null,
            "grid_auto_columns": null,
            "grid_auto_flow": null,
            "grid_auto_rows": null,
            "grid_column": null,
            "grid_gap": null,
            "grid_row": null,
            "grid_template_areas": null,
            "grid_template_columns": null,
            "grid_template_rows": null,
            "height": null,
            "justify_content": null,
            "justify_items": null,
            "left": null,
            "margin": null,
            "max_height": null,
            "max_width": null,
            "min_height": null,
            "min_width": null,
            "object_fit": null,
            "object_position": null,
            "order": null,
            "overflow": null,
            "overflow_x": null,
            "overflow_y": null,
            "padding": null,
            "right": null,
            "top": null,
            "visibility": null,
            "width": null
          }
        },
        "0bbfe3a216354befb7bbc767aea448b5": {
          "model_module": "@jupyter-widgets/controls",
          "model_name": "DescriptionStyleModel",
          "model_module_version": "1.5.0",
          "state": {
            "_model_module": "@jupyter-widgets/controls",
            "_model_module_version": "1.5.0",
            "_model_name": "DescriptionStyleModel",
            "_view_count": null,
            "_view_module": "@jupyter-widgets/base",
            "_view_module_version": "1.2.0",
            "_view_name": "StyleView",
            "description_width": ""
          }
        },
        "0c5f85bf5bfd441884665065f9653e95": {
          "model_module": "@jupyter-widgets/base",
          "model_name": "LayoutModel",
          "model_module_version": "1.2.0",
          "state": {
            "_model_module": "@jupyter-widgets/base",
            "_model_module_version": "1.2.0",
            "_model_name": "LayoutModel",
            "_view_count": null,
            "_view_module": "@jupyter-widgets/base",
            "_view_module_version": "1.2.0",
            "_view_name": "LayoutView",
            "align_content": null,
            "align_items": null,
            "align_self": null,
            "border": null,
            "bottom": null,
            "display": null,
            "flex": null,
            "flex_flow": null,
            "grid_area": null,
            "grid_auto_columns": null,
            "grid_auto_flow": null,
            "grid_auto_rows": null,
            "grid_column": null,
            "grid_gap": null,
            "grid_row": null,
            "grid_template_areas": null,
            "grid_template_columns": null,
            "grid_template_rows": null,
            "height": null,
            "justify_content": null,
            "justify_items": null,
            "left": null,
            "margin": null,
            "max_height": null,
            "max_width": null,
            "min_height": null,
            "min_width": null,
            "object_fit": null,
            "object_position": null,
            "order": null,
            "overflow": null,
            "overflow_x": null,
            "overflow_y": null,
            "padding": null,
            "right": null,
            "top": null,
            "visibility": null,
            "width": "20px"
          }
        },
        "ba487aac335943d5ac11ff37dc493ad6": {
          "model_module": "@jupyter-widgets/controls",
          "model_name": "ProgressStyleModel",
          "model_module_version": "1.5.0",
          "state": {
            "_model_module": "@jupyter-widgets/controls",
            "_model_module_version": "1.5.0",
            "_model_name": "ProgressStyleModel",
            "_view_count": null,
            "_view_module": "@jupyter-widgets/base",
            "_view_module_version": "1.2.0",
            "_view_name": "StyleView",
            "bar_color": null,
            "description_width": ""
          }
        },
        "e48b7da96452406f8c05ba67e6db98db": {
          "model_module": "@jupyter-widgets/base",
          "model_name": "LayoutModel",
          "model_module_version": "1.2.0",
          "state": {
            "_model_module": "@jupyter-widgets/base",
            "_model_module_version": "1.2.0",
            "_model_name": "LayoutModel",
            "_view_count": null,
            "_view_module": "@jupyter-widgets/base",
            "_view_module_version": "1.2.0",
            "_view_name": "LayoutView",
            "align_content": null,
            "align_items": null,
            "align_self": null,
            "border": null,
            "bottom": null,
            "display": null,
            "flex": null,
            "flex_flow": null,
            "grid_area": null,
            "grid_auto_columns": null,
            "grid_auto_flow": null,
            "grid_auto_rows": null,
            "grid_column": null,
            "grid_gap": null,
            "grid_row": null,
            "grid_template_areas": null,
            "grid_template_columns": null,
            "grid_template_rows": null,
            "height": null,
            "justify_content": null,
            "justify_items": null,
            "left": null,
            "margin": null,
            "max_height": null,
            "max_width": null,
            "min_height": null,
            "min_width": null,
            "object_fit": null,
            "object_position": null,
            "order": null,
            "overflow": null,
            "overflow_x": null,
            "overflow_y": null,
            "padding": null,
            "right": null,
            "top": null,
            "visibility": null,
            "width": null
          }
        },
        "4f9b6d9ac260442faa80c609fcf4da12": {
          "model_module": "@jupyter-widgets/controls",
          "model_name": "DescriptionStyleModel",
          "model_module_version": "1.5.0",
          "state": {
            "_model_module": "@jupyter-widgets/controls",
            "_model_module_version": "1.5.0",
            "_model_name": "DescriptionStyleModel",
            "_view_count": null,
            "_view_module": "@jupyter-widgets/base",
            "_view_module_version": "1.2.0",
            "_view_name": "StyleView",
            "description_width": ""
          }
        },
        "90b79cef229843b789fdb574764a9748": {
          "model_module": "@jupyter-widgets/controls",
          "model_name": "HBoxModel",
          "model_module_version": "1.5.0",
          "state": {
            "_dom_classes": [],
            "_model_module": "@jupyter-widgets/controls",
            "_model_module_version": "1.5.0",
            "_model_name": "HBoxModel",
            "_view_count": null,
            "_view_module": "@jupyter-widgets/controls",
            "_view_module_version": "1.5.0",
            "_view_name": "HBoxView",
            "box_style": "",
            "children": [
              "IPY_MODEL_a9251ffcf4da4905928a251263132fdf",
              "IPY_MODEL_c8dcb165c72840779038a9fcb3cbf502",
              "IPY_MODEL_8e36c10f007947e7ace50d0c7d6f13d5"
            ],
            "layout": "IPY_MODEL_7eea345bb5d14f1d8eaeefa14ba8f630"
          }
        },
        "a9251ffcf4da4905928a251263132fdf": {
          "model_module": "@jupyter-widgets/controls",
          "model_name": "HTMLModel",
          "model_module_version": "1.5.0",
          "state": {
            "_dom_classes": [],
            "_model_module": "@jupyter-widgets/controls",
            "_model_module_version": "1.5.0",
            "_model_name": "HTMLModel",
            "_view_count": null,
            "_view_module": "@jupyter-widgets/controls",
            "_view_module_version": "1.5.0",
            "_view_name": "HTMLView",
            "description": "",
            "description_tooltip": null,
            "layout": "IPY_MODEL_ce3d0bfd079e4af98ea4a7e2f685c49a",
            "placeholder": "​",
            "style": "IPY_MODEL_240fe52700814d5d9fb1fc1e501a08e0",
            "value": "100%"
          }
        },
        "c8dcb165c72840779038a9fcb3cbf502": {
          "model_module": "@jupyter-widgets/controls",
          "model_name": "FloatProgressModel",
          "model_module_version": "1.5.0",
          "state": {
            "_dom_classes": [],
            "_model_module": "@jupyter-widgets/controls",
            "_model_module_version": "1.5.0",
            "_model_name": "FloatProgressModel",
            "_view_count": null,
            "_view_module": "@jupyter-widgets/controls",
            "_view_module_version": "1.5.0",
            "_view_name": "ProgressView",
            "bar_style": "success",
            "description": "",
            "description_tooltip": null,
            "layout": "IPY_MODEL_123854b554af4489a72943e68457aab6",
            "max": 205,
            "min": 0,
            "orientation": "horizontal",
            "style": "IPY_MODEL_8036b898e14f40af8ebcd1bf2c218a4d",
            "value": 205
          }
        },
        "8e36c10f007947e7ace50d0c7d6f13d5": {
          "model_module": "@jupyter-widgets/controls",
          "model_name": "HTMLModel",
          "model_module_version": "1.5.0",
          "state": {
            "_dom_classes": [],
            "_model_module": "@jupyter-widgets/controls",
            "_model_module_version": "1.5.0",
            "_model_name": "HTMLModel",
            "_view_count": null,
            "_view_module": "@jupyter-widgets/controls",
            "_view_module_version": "1.5.0",
            "_view_name": "HTMLView",
            "description": "",
            "description_tooltip": null,
            "layout": "IPY_MODEL_18f8e22060084dc6b122c7f990f0e1f9",
            "placeholder": "​",
            "style": "IPY_MODEL_84196442fc6a4a498cad9f9255bb39bb",
            "value": " 205/205 [00:00&lt;00:00, 2752.80it/s]"
          }
        },
        "7eea345bb5d14f1d8eaeefa14ba8f630": {
          "model_module": "@jupyter-widgets/base",
          "model_name": "LayoutModel",
          "model_module_version": "1.2.0",
          "state": {
            "_model_module": "@jupyter-widgets/base",
            "_model_module_version": "1.2.0",
            "_model_name": "LayoutModel",
            "_view_count": null,
            "_view_module": "@jupyter-widgets/base",
            "_view_module_version": "1.2.0",
            "_view_name": "LayoutView",
            "align_content": null,
            "align_items": null,
            "align_self": null,
            "border": null,
            "bottom": null,
            "display": null,
            "flex": null,
            "flex_flow": null,
            "grid_area": null,
            "grid_auto_columns": null,
            "grid_auto_flow": null,
            "grid_auto_rows": null,
            "grid_column": null,
            "grid_gap": null,
            "grid_row": null,
            "grid_template_areas": null,
            "grid_template_columns": null,
            "grid_template_rows": null,
            "height": null,
            "justify_content": null,
            "justify_items": null,
            "left": null,
            "margin": null,
            "max_height": null,
            "max_width": null,
            "min_height": null,
            "min_width": null,
            "object_fit": null,
            "object_position": null,
            "order": null,
            "overflow": null,
            "overflow_x": null,
            "overflow_y": null,
            "padding": null,
            "right": null,
            "top": null,
            "visibility": null,
            "width": null
          }
        },
        "ce3d0bfd079e4af98ea4a7e2f685c49a": {
          "model_module": "@jupyter-widgets/base",
          "model_name": "LayoutModel",
          "model_module_version": "1.2.0",
          "state": {
            "_model_module": "@jupyter-widgets/base",
            "_model_module_version": "1.2.0",
            "_model_name": "LayoutModel",
            "_view_count": null,
            "_view_module": "@jupyter-widgets/base",
            "_view_module_version": "1.2.0",
            "_view_name": "LayoutView",
            "align_content": null,
            "align_items": null,
            "align_self": null,
            "border": null,
            "bottom": null,
            "display": null,
            "flex": null,
            "flex_flow": null,
            "grid_area": null,
            "grid_auto_columns": null,
            "grid_auto_flow": null,
            "grid_auto_rows": null,
            "grid_column": null,
            "grid_gap": null,
            "grid_row": null,
            "grid_template_areas": null,
            "grid_template_columns": null,
            "grid_template_rows": null,
            "height": null,
            "justify_content": null,
            "justify_items": null,
            "left": null,
            "margin": null,
            "max_height": null,
            "max_width": null,
            "min_height": null,
            "min_width": null,
            "object_fit": null,
            "object_position": null,
            "order": null,
            "overflow": null,
            "overflow_x": null,
            "overflow_y": null,
            "padding": null,
            "right": null,
            "top": null,
            "visibility": null,
            "width": null
          }
        },
        "240fe52700814d5d9fb1fc1e501a08e0": {
          "model_module": "@jupyter-widgets/controls",
          "model_name": "DescriptionStyleModel",
          "model_module_version": "1.5.0",
          "state": {
            "_model_module": "@jupyter-widgets/controls",
            "_model_module_version": "1.5.0",
            "_model_name": "DescriptionStyleModel",
            "_view_count": null,
            "_view_module": "@jupyter-widgets/base",
            "_view_module_version": "1.2.0",
            "_view_name": "StyleView",
            "description_width": ""
          }
        },
        "123854b554af4489a72943e68457aab6": {
          "model_module": "@jupyter-widgets/base",
          "model_name": "LayoutModel",
          "model_module_version": "1.2.0",
          "state": {
            "_model_module": "@jupyter-widgets/base",
            "_model_module_version": "1.2.0",
            "_model_name": "LayoutModel",
            "_view_count": null,
            "_view_module": "@jupyter-widgets/base",
            "_view_module_version": "1.2.0",
            "_view_name": "LayoutView",
            "align_content": null,
            "align_items": null,
            "align_self": null,
            "border": null,
            "bottom": null,
            "display": null,
            "flex": null,
            "flex_flow": null,
            "grid_area": null,
            "grid_auto_columns": null,
            "grid_auto_flow": null,
            "grid_auto_rows": null,
            "grid_column": null,
            "grid_gap": null,
            "grid_row": null,
            "grid_template_areas": null,
            "grid_template_columns": null,
            "grid_template_rows": null,
            "height": null,
            "justify_content": null,
            "justify_items": null,
            "left": null,
            "margin": null,
            "max_height": null,
            "max_width": null,
            "min_height": null,
            "min_width": null,
            "object_fit": null,
            "object_position": null,
            "order": null,
            "overflow": null,
            "overflow_x": null,
            "overflow_y": null,
            "padding": null,
            "right": null,
            "top": null,
            "visibility": null,
            "width": null
          }
        },
        "8036b898e14f40af8ebcd1bf2c218a4d": {
          "model_module": "@jupyter-widgets/controls",
          "model_name": "ProgressStyleModel",
          "model_module_version": "1.5.0",
          "state": {
            "_model_module": "@jupyter-widgets/controls",
            "_model_module_version": "1.5.0",
            "_model_name": "ProgressStyleModel",
            "_view_count": null,
            "_view_module": "@jupyter-widgets/base",
            "_view_module_version": "1.2.0",
            "_view_name": "StyleView",
            "bar_color": null,
            "description_width": ""
          }
        },
        "18f8e22060084dc6b122c7f990f0e1f9": {
          "model_module": "@jupyter-widgets/base",
          "model_name": "LayoutModel",
          "model_module_version": "1.2.0",
          "state": {
            "_model_module": "@jupyter-widgets/base",
            "_model_module_version": "1.2.0",
            "_model_name": "LayoutModel",
            "_view_count": null,
            "_view_module": "@jupyter-widgets/base",
            "_view_module_version": "1.2.0",
            "_view_name": "LayoutView",
            "align_content": null,
            "align_items": null,
            "align_self": null,
            "border": null,
            "bottom": null,
            "display": null,
            "flex": null,
            "flex_flow": null,
            "grid_area": null,
            "grid_auto_columns": null,
            "grid_auto_flow": null,
            "grid_auto_rows": null,
            "grid_column": null,
            "grid_gap": null,
            "grid_row": null,
            "grid_template_areas": null,
            "grid_template_columns": null,
            "grid_template_rows": null,
            "height": null,
            "justify_content": null,
            "justify_items": null,
            "left": null,
            "margin": null,
            "max_height": null,
            "max_width": null,
            "min_height": null,
            "min_width": null,
            "object_fit": null,
            "object_position": null,
            "order": null,
            "overflow": null,
            "overflow_x": null,
            "overflow_y": null,
            "padding": null,
            "right": null,
            "top": null,
            "visibility": null,
            "width": null
          }
        },
        "84196442fc6a4a498cad9f9255bb39bb": {
          "model_module": "@jupyter-widgets/controls",
          "model_name": "DescriptionStyleModel",
          "model_module_version": "1.5.0",
          "state": {
            "_model_module": "@jupyter-widgets/controls",
            "_model_module_version": "1.5.0",
            "_model_name": "DescriptionStyleModel",
            "_view_count": null,
            "_view_module": "@jupyter-widgets/base",
            "_view_module_version": "1.2.0",
            "_view_name": "StyleView",
            "description_width": ""
          }
        }
      }
    }
  },
  "cells": [
    {
      "cell_type": "markdown",
      "metadata": {
        "id": "view-in-github",
        "colab_type": "text"
      },
      "source": [
        "<a href=\"https://colab.research.google.com/github/anydevil0812/bootcamp_project/blob/main/%EB%8C%84%EC%8A%A4_%ED%94%84%EB%A1%9C%EC%A0%9D%ED%8A%B8.ipynb\" target=\"_parent\"><img src=\"https://colab.research.google.com/assets/colab-badge.svg\" alt=\"Open In Colab\"/></a>"
      ]
    },
    {
      "cell_type": "code",
      "execution_count": null,
      "metadata": {
        "id": "mcb5x7OHyopW"
      },
      "outputs": [],
      "source": [
        "import numpy as np\n",
        "import re\n",
        "import tensorflow as tf\n",
        "import os\n",
        "from tensorflow.keras import layers\n",
        "from tensorflow.keras import activations\n",
        "from sklearn.preprocessing import MinMaxScaler\n",
        "import pandas as pd\n",
        "from tqdm.notebook import tqdm, trange"
      ]
    },
    {
      "cell_type": "code",
      "source": [
        "data_dir = '/content/drive/MyDrive/ITstudy/Project2'"
      ],
      "metadata": {
        "id": "6APE0XRT1tyM"
      },
      "execution_count": null,
      "outputs": []
    },
    {
      "cell_type": "code",
      "source": [
        "os.listdir(data_dir)"
      ],
      "metadata": {
        "colab": {
          "base_uri": "https://localhost:8080/"
        },
        "id": "m68wrX6S19MA",
        "outputId": "ceb0d55c-3300-433c-b1f5-c53bea3fa187"
      },
      "execution_count": null,
      "outputs": [
        {
          "output_type": "execute_result",
          "data": {
            "text/plain": [
              "['dataset.zip',\n",
              " 'dataset',\n",
              " '댄스_작사 모델링.ipynb의 사본',\n",
              " '댄스_모델1의 사본',\n",
              " '댄스_모델2 (크롤링)_______댄스곡 크롤링 오류 확인 요망의 사본',\n",
              " '발표자료최종본.ipynb',\n",
              " '댄스_프로젝트.ipynb']"
            ]
          },
          "metadata": {},
          "execution_count": 3
        }
      ]
    },
    {
      "cell_type": "code",
      "source": [
        "import argparse\n",
        "args = {\n",
        "    \"seed\": 1234\n",
        "}\n",
        "args = argparse.Namespace(**args)\n",
        "\n",
        "print(args)"
      ],
      "metadata": {
        "colab": {
          "base_uri": "https://localhost:8080/"
        },
        "id": "dMKPbkq123TK",
        "outputId": "e8598bc1-7e54-4d54-f7ac-a7d57edbe182"
      },
      "execution_count": null,
      "outputs": [
        {
          "output_type": "stream",
          "name": "stdout",
          "text": [
            "Namespace(seed=1234)\n"
          ]
        }
      ]
    },
    {
      "cell_type": "code",
      "source": [
        "args.corpus = os.path.join(data_dir, 'dataset.zip')"
      ],
      "metadata": {
        "id": "TMmvSHisuKq2"
      },
      "execution_count": null,
      "outputs": []
    },
    {
      "cell_type": "code",
      "source": [
        "args.corpus"
      ],
      "metadata": {
        "colab": {
          "base_uri": "https://localhost:8080/",
          "height": 35
        },
        "id": "CErXgo_HuYDy",
        "outputId": "f049a833-4b2c-458c-d930-d32164e8e1aa"
      },
      "execution_count": null,
      "outputs": [
        {
          "output_type": "execute_result",
          "data": {
            "text/plain": [
              "'/content/drive/MyDrive/ITstudy/Project2/dataset.zip'"
            ],
            "application/vnd.google.colaboratory.intrinsic+json": {
              "type": "string"
            }
          },
          "metadata": {},
          "execution_count": 6
        }
      ]
    },
    {
      "cell_type": "code",
      "source": [
        "# 댄스 데이터 불러오기\n",
        "\n",
        "raw_corpus = []\n",
        "\n",
        "\n",
        "with open(\"/content/drive/MyDrive/ITstudy/Project2/dataset/1990-2000_댄스.tsv\", \"r\") as f:\n",
        "    raw = f.read().splitlines()\n",
        "    raw_corpus.extend(raw)\n",
        "\n",
        "print(\"데이터 크기:\", len(raw_corpus))\n",
        "print(\"Examples:\\n\", raw_corpus[:10])"
      ],
      "metadata": {
        "colab": {
          "base_uri": "https://localhost:8080/"
        },
        "id": "htSxx7Zr-S5r",
        "outputId": "040c1ee9-a502-42a5-d44b-fe7402fef43c"
      },
      "execution_count": null,
      "outputs": [
        {
          "output_type": "stream",
          "name": "stdout",
          "text": [
            "데이터 크기: 205\n",
            "Examples:\n",
            " ['lyrics', '이제 모든걸 다시 시작해 내겐 아직도 시간이 있어 때론 상처가 좌절로 남아 돌이킬수 없는 후회도 하고 그러나 우리 잊어선 안돼 지금의 나는 내가 아닌걸 신문에 실려온 얘기들 헝클어진 우리들을 탓할순 없어 이제 모든걸 다시 시작해 이렇게 여기서 끝낼순 없어 내겐 아직도 시간이 있어 지금 이렇게 지금 멈출수는 없어 신문에 실려온 얘기들 헝클어진 우리들을 탓할순 없어 이제 모든걸 다시 시작해 이렇게 여기서 끝낼순 없어 내겐 아직도 시간이 있어 지금 이렇게 지금 나는 여기서 멈출순 없어 이제 모든걸 다시 시작해 나는 여기서 멈출순 없어 이제 모든걸 다시 시작해', '워 우리 모두 사랑하자 우리의 젊은날을 위하여 우리 모두 춤을 추자 가벼운 인스텝 속에 그대와 함께 춤을 아무렇게나 옷을 입고 거리를 걷다보면은 스쳐가는 사람들속에 시선도 받지만 나름대로의 연출속에 자신감도 갖고 있고 그것이 어떤 것이든 우리 맘대로 오늘을 얘기하자 워 우리 모두 사랑하자 우리의 젊은날을 위하여 우리 모두 춤을 추자 가벼운 인스텝 속에 그대와 함께 춤을 댄스뮤직을 좋아하고 자동차도 좋아하고 이번에 새로 나온 청바지도 좋지만 지금 당장 내겐 이런 걸 재밌있게 떠들면서 얘기할 나의 진실한 그런 사랑도 친구도 여기 없어 워 우리 모두 사랑하자 우리의 젊은 날을 위하여 우리 모두 춤을 추자 가벼운 인스텝 속에 그대와 함께 춤을 솔직하게 말을 해봐 괜찮으니까 사랑한다 말하는게 뭐 힘들어요 아무것도 꾸밈없는 진실한 얘기로 더 늦기전에 우리 모두 사랑하자 워 우리 모두 사랑하자 우리의 젊은날을 위하여 우리 모두 춤을 추자 가벼운 인스텝 속에 그대와 함께 우리 모두 사랑하자 우리의 젊은날을 위하여 우리 모두 춤을 추자 가벼운 인스텝 속에 그대와 함께', '끝없는 어둠 속을 천천히 걷고 있어 어디서 본 듯한 야릇한 느낌이야 거리는 비에 젖어 싸늘함 더 해지고 바람은 얼어버린 내 어깨를 스쳐가네 ZAM 예 ZAM 저 멀리 다가오는 두 그림자의 모습 아무런 표정없이 내 앞을 스쳐지나 또 다른 어둠으로 조용히 사라지자 갑자기 들려오는 여자의 비명소리 ZAM 예 ZAM 어떡해야 하나 그건 나와 아무 상관 없는 일이야 어떡해야 하나 돌아보지 말아 어쨌든 이 거리를 벗어나야만 했어 무작정 어디든지 가야만 했었지 또 다시 다가오는 적막한 느낌속에 뒤돌아 바라보니 나를 보는 두 그림자 ZAM 예 ZAM 어떡해야 하나 나는 지금 위험에 빠진듯한데 어떡해야 하나 대답할 수 없어 어떡해야 하나 그건 나와 아무 상관없는 일이야 어떡해야 하나 돌아보지 말아 어떡해야 하나 나는 지금 위험에 빠진듯한데 어떡해야 하나 대답할 수 없어 어떡해야 하나 그건 나와 아무 상관없는 일이야 어떡해야 하나 돌아보지 말아', '요즘 친구들은 흥 정말 진정한 친구가 뭔지 잘 몰라 말로만 떠들고 자기들이 다만 그게 다인줄만 알겠지 겉으로만 생각해 주는지 좋은말만 얘기하는 친구 자유롭게 날고 싶다면서 어디론가 사라지는 친구 모두가 아무 생각도 없이 그저 자기 위주로만 해석하고 스스로 자신이 특별하다고 우 생각 하네 그려 적어도 우린 친구라면 다같이 다같이 생각해보자 우리에게 얼마나 많은것을 바라고 원하는지 그저 친구라는 이유만으로 또 우린 얼마나 변해왔을까 진정한 친구란 지금의 우리 그 모습은 결코 결코 아닐거야 바쁘다고 투덜대면서도 전화하면 잠만 자는 친구 큰 소리로 한턱 낸다면서 계산할땐 없어지는 친구 모두가 그런 생활 속에서 자기 자신도 모르게 변해가고 또 우린 모든 것을 당연하게 우 생각 하네 모두가 그런 생활 속에서 자기 자신도 모르게 변해가고 또 우린 모든 것을 당연하게 우 생각 하네 겉으로는 위로 하면서도 뒤돌아선 미소 짓는 친구 우리들은 이런 현실속에 친구들을 잃어가고 있어', '처음엔 나도 모든게 따뜻하게 느껴지고 만날때 마다 새롭게 그대를 난 느껴왔지만 슈비 두비답 슈비 두비답 슈비 두비답 슈비 두비답 슈비 두비답 슈비 두비답 슈비 두비답 슈비 두비답 우산을 툴툴 털면서 카페에 들어 설때 날마다 똑같은 표정을 내게 보이네 슈비 두비답 슈비 두비답 슈비 두비답 슈비 두비답 슈비 두비답 슈비 두비답 슈비 두비답 슈비 두비답 아하 오늘처럼 비가 내리는 날도 그대는 내맘을 몰라주고 이렇게 앉아있네 그렇다고 내가 너에게 무슨 말을하겠니 사랑한단 말도 이제는 모두 모두 잊을래 여느때와 같이 너에게 웃어 줄 수는 없어 지금 나도 내가 너에게 뭐라고 하는지 몰라 솔직히 말하자며 이제는 싫증이 난거야 슈비 두비답 슈비 두비답 슈비 두비답 슈비 두비답 슈비 두비답 슈비 두비답 슈비 두비답 슈비 두비답 아하 오늘처럼 비가 내리는 날도 그대는 내맘을 몰라주고 이렇게 앉아있네 그렇다고 내가 너에게 무슨 말을하겠니 사랑한단 말도 이제는 모두 모두 잊을래 여느때와 같이 너에게 웃어 줄 수는 없어 지금 나도 내가 너에게 뭐라고 하는지 몰라 그렇다고 내가 너에게 무슨 말을하겠니 사랑한단 말도 이제는 모두 모두 잊을래 여느때와 같이 너에게 웃어 줄 수는 없어 지금 나도 내가 너에게 뭐라고 하는지 몰라 그렇다고 내가 너에게 무슨 말을하겠니 사랑한단 말도 이제는 모두 모두 잊을래 여느때와 같이 너에게 웃어 줄 수는 없어', '난 알아요 이밤이 흐르고 흐르면 누군가가 나를 떠나 버려야 한다는 그 사실을 그 이유를 이제는 나도 알 수가 알 수가 있어요 사랑을 한다는 말을 못했어 어쨌거나 지금은 너무 늦어 버렸어 그때 나는 무얼하고 있었나 그 미소는 너무 아름다웠어 난 정말 그대 그대만을 좋아했어 나에게 이런 슬픔 안겨주는 그대여 제발 이별만은 말하지 말아요 나에겐 오직 그대만이 전부였잖아 오 그대여 가지마세요 나를 정말 떠나 가나요 오 그대여 가지마세요 나는 지금 울잖아요 난 알아요 이밤이 흐르면 요 그대 떠나는 모습 뒤로하고 마지막 키스에 슬픈 마음 정말 떠나는가 사랑을 하고싶어 너의 모든 향기 나의 몸속에 젖어있는 너의 많은 숨결 그 미소 그눈물 그 알 수 없는 마음에 마음 그리곤 또 마음에 마음 그 어렵다는 편지는 쓰지 않아도 돼 너의 진실한 모습을 바라보고 있어요 아직도 마음속엔 내가 있나요 나는 그대의 영원한 난 정말 그대 그대만을 좋아했어 나에게 이런 슬픔 안겨주는 그대여 오 그대여 가지마세요 나를 정말 떠나 가나요 오 그대여 가지마세요 나는 지금 울잖아요 오 그대여 가지마세요 나를 정말 떠나 가나요 오 그대여 가지마세요 나는 지금 울잖아요', '오늘도 우린 함께 했지 흠 난 또 한 번 느꼈어 너도 날 사랑하고 있다는 걸 항상 난 너만을 이해하려고 하지만 너는 언제나 너의 뜻대로만 움직였지 너에게 원한 건 어려운 고백은 아냐 날 사랑하는 것만큼 표현해주는 것 느낄 수 있도록 - 연 주 중 - 너는 진실한 마음을 깊이 감추고 그냥 장난스런 겉모습으로 날 대하지만 난 아무 상관 없어 그렇게 날 대하는 너 또한 어색한 걸 난 알 수 있어 너에게 원한 건 어려운 부탁은 아냐 서로 관심을 조금씩만 가져주는 것 서로 느낄 수 있도록 오늘도 우린 함께 했지 흠 난 또 한 번 느꼈어 너도 날 사랑하고 있다는 걸 이젠 내게서 달아나려고 하지마 너의 맘을 내게 모두 다 들켜버렸으니까 너에게 원한 건 어려운 고백은 아냐 날 사랑하는 것만큼 표현해주는 것 너에게 원한 건 어려운 부탁은 아냐 서로 관심을 조금씩만 가져주는 것 서로 느낄 수 있도록', '이젠 너의 변명처럼 너는 나를 떠나겠지만 아무 말도 필요없잖아 이미 알고 있던 이별인걸 언제부터 너는 나에게 싫증을 느꼈었는지 난 이미 알고 있었지 너의 맘이 변했다는 걸 난 이제 너에게 변명은 듣기 싫어 너의 마음이 변했다는걸 알아 하지만 너에게 하고픈 말이 있어 짧은 만남이었지만 날 기억해줘 아무런 변명도 이젠 듣고 싶지 않아 짧았던 만남을 그냥 기억해줘 아무런 변명도 이젠 듣고 싶지 않아 짧았던 만남을 그냥 기억해줘 이제 네가 떠나버리면 나의 마음은 텅비겠지만 날 쉽게 잊을거라고 너무 빨리 말하지마 이제 와서 어떤 말로 날 위로하려 하는지 그건 너의 변명일뿐 너의 이유는 될 수 없어 떠나는 너에게 아무런 말 않을게 나를 사랑한 기억만을 잊지말어 이제와 너에게 어떤 말을 하겠니 그냥 너를 바라보며 보낼 수 밖에 1 2 3 DJ 이젠 너의 변명처럼 너는 나를 떠나겠지만 아무 말도 필요없잖아 이미 알고있던 이별인걸 언제부터 너는 나에게 싫증을 느꼈었는지 난 이미 알고 있었지 너의 맘이 변했다는 걸 아무런 변명도 이젠 듣고 싶지 않아 짧았던 만남을 그냥 기억해줘 아무런 변명도 이젠 듣고 싶지 않아 짧았던 만남을 그냥 기억해줘 이제 네가 떠나버리면 나의 마음은 텅비겠지만 날 쉽게 잊을거라고 너무 빨리 말하지마 이제와서 어떤 말로 날 위로하려 하는지 그건 너의 변명일뿐 너의 이유는 될 수 없어 난 이제 너에게 변명은 듣기 싫어 너의 마음이 변했다는걸 알아 하지만 너에게 하고픈 말이 있어 짧은 만남이었지만 날 기억해줘 떠나는 너에게 아무런 말 않을게 나를 사랑한 기억만은 잊지말어 이제와 너에게 어떤 말을 하겠니 그냥 너를 바라보며 보낼 수 밖에', '너에게 모든 걸 뺏겨 버렸던 마음이 다시 내게 돌아 오는 걸 느꼈지 너는 언제까지나 나만의 나의 연인이라 믿어왔던 내 생각은 틀리고 말았어 변해버린건 필요가 없어 이제는 널 봐도 아무런 느낌이 없어 나에겐 항상 시선을 멈췄던 예전의 네 모습과 나를 바라보던 네 미소와 너만의 목소리 모든게 그리워 진거야 지금 나에겐 너를 볼때마다 내겐 가슴이 떨리는 그 느낌이 있었지 난 그냥 네게 나를 던진거야 예 나홀로 있을때 조차 너를 기다린다는 설레임에 언제나 기쁘게 마음을 가졌던거야 예 부풀은 내 마음속엔 항상 네가 있었어 하얀 미소의 너를 가득 안고서 이제는 너를 위해 남겨둔 것이 있어 해맑던 네 미소가 담긴 사진을 난 그냥 이대로 뒤돌아 가는가 넌 그냥 이대로 날 잊어 버리나 난 그냥 이대로 뒤돌아 가는가 널 그냥 이대로 보내긴 내 가슴이 너무나 난 그냥 이대로 날 잊어 버리나 난 그냥 이대로 난 그냥 이대로 보내긴 내 가슴이 너무나 너에게 많은걸 바라는 게 아니지 그전처럼 또 바로 그때처럼 말이야 정성이 가득히 있었지 언제나 나를 너무 따뜻하게 대해 주었지 이제는 전화를 네게 거는 것 마저 난 이제 모두 두려워졌어 넌 아닌척하고 있지만 너의 목소리가 너무도 차갑지 난 이제 알 수가 있어 너도 많이 아파하고 있었다는 것만을 너의 진실을 숨기지마 넌 왜 그리 모르지 너를 볼때마다 내겐 가슴이 떨리는 그 느낌이 있었지 난 그냥 네게 나를 던진거야 예 나홀로 있을때 조차 너를 기다린다는 설레임에 언제나 기쁘게 마음을 가졌던거야 예 부풀은 내 마음속엔 항상 네가 있었어 하얀 미소의 너를 가득 안고서 이제는 너를 위해 남겨둔 것이 있어 해맑던 네 미소가 담긴 사진을 난 그냥 이대로 뒤돌아 가는가 넌 그냥 이대로 날 잊어 버리나 난 그냥 이대로 뒤돌아 가는가 널 그냥 이대로 보내긴 내 가슴이 너무나 난 그냥 이대로 날 잊어 버리나 난 그냥 이대로 난 그냥 이대로 보내긴 내 가슴이 너무나 이렇게 떠나가 버릴 너를 보려한것이 아니야 하지만 나는 기다려 네가 다시 돌아올날까지 이곳에서']\n"
          ]
        }
      ]
    },
    {
      "cell_type": "code",
      "source": [
        "Y = [0 for i in range(205)]"
      ],
      "metadata": {
        "id": "qkQJv_JC91zG"
      },
      "execution_count": null,
      "outputs": []
    },
    {
      "cell_type": "code",
      "source": [
        "len(Y)"
      ],
      "metadata": {
        "colab": {
          "base_uri": "https://localhost:8080/"
        },
        "id": "SPt7FHP8-BgF",
        "outputId": "7688239e-622c-4d0a-ef5f-9c4f3d52346e"
      },
      "execution_count": null,
      "outputs": [
        {
          "output_type": "execute_result",
          "data": {
            "text/plain": [
              "205"
            ]
          },
          "metadata": {},
          "execution_count": 9
        }
      ]
    },
    {
      "cell_type": "code",
      "source": [
        "Y = np.array(Y)"
      ],
      "metadata": {
        "id": "a5Qq3uTm-GFM"
      },
      "execution_count": null,
      "outputs": []
    },
    {
      "cell_type": "code",
      "source": [
        "word_to_id_tmp = {'[PAD]': 0, '[UNK]': 1}\n",
        "for idx, sentence in enumerate(raw_corpus):\n",
        "    # 길이가 0이면 패스\n",
        "    if len(sentence) == 0: continue\n",
        "    # 문장의 끝이 :이면 패스\n",
        "    if sentence[-1] == \":\": continue \n",
        "    #10개 문장만 먼저 보겠습니다.\n",
        "    if idx >9: break \n",
        "        \n",
        "print(sentence) "
      ],
      "metadata": {
        "colab": {
          "base_uri": "https://localhost:8080/"
        },
        "id": "RM_NCCyO05Tk",
        "outputId": "33e3e5da-c936-4630-e645-29646551e2e8"
      },
      "execution_count": null,
      "outputs": [
        {
          "output_type": "stream",
          "name": "stdout",
          "text": [
            "언제나 함께 했던 시간들을 접어 두고서 이제 너는 떠나가네 즐거웠던 시간만을 기억해 줄래 해맑은 네 큰눈에 반했던게 어제 같은데 이제 너는 떠나가네 우리에 따뜻했던 마음 기억해 줘 신비한 채로 가려져 있던 널 알기도 전에 우리가 헤어지는 일은 없을거라 난 믿었는데 너를 보내기 위한 춤을 추고 있어 짧은 시간만이 남았어 내 친구야 창밖을 봐 눈이 오잖아 모두 너를 위한 거야 느낄 수 있니 아침 해가 뜨기전에 널 보내 줄께 내겐 언제나 짜릿함으로 다가왔던 너에 따뜻한 미소 우린 언제나 다함께 나누었던 웃음과 눈물 신비롭던 너에 몸짓이 하나하나가 나의 기억속엔 언제나 매일매일 생각나겠지 어쩌다 너의길이 힘겨워 걷다가 지칠땐 주저 앉아 잠시 울어 언젠가 다시 만날 그날을 생각해 친구야 하루가 다 지나가고 잠들기전에 우리들을 기억해줘 다시 만날땐 너를 꼭 안아 주겠어. 신비한 채로 가려져 있던 널 알기도 전에 우리가 헤어지는 일은 없을거라 난 믿었는데 너를 보내기 위한 춤을 추고 있어 짧은 시간만이 남았어 내 친구야 창밖을 봐 눈이 오잖아 모두 너를 위한 거야 느낄 수 있니 아침 해가 뜨기전에 널 보내 줄께\n"
          ]
        }
      ]
    },
    {
      "cell_type": "code",
      "source": [
        "# corpus라는 폴더를 생성하여 문장이 없거나 ':'를 가진 문장은 넘기고 저장을 진행\n",
        "\n",
        "corpus = []\n",
        "\n",
        "for sentence in raw_corpus:\n",
        "    if len(sentence) == 0: continue\n",
        "    if sentence[-1] == \":\": continue\n",
        "        \n",
        "    corpus.append(sentence)\n",
        "        \n",
        "corpus[1] # 곡 하나에 대한 가사"
      ],
      "metadata": {
        "colab": {
          "base_uri": "https://localhost:8080/",
          "height": 90
        },
        "id": "AwQpbsWjk95D",
        "outputId": "85d029f1-79e5-4aa2-864f-1da0e21852f4"
      },
      "execution_count": null,
      "outputs": [
        {
          "output_type": "execute_result",
          "data": {
            "text/plain": [
              "'이제 모든걸 다시 시작해 내겐 아직도 시간이 있어 때론 상처가 좌절로 남아 돌이킬수 없는 후회도 하고 그러나 우리 잊어선 안돼 지금의 나는 내가 아닌걸 신문에 실려온 얘기들 헝클어진 우리들을 탓할순 없어 이제 모든걸 다시 시작해 이렇게 여기서 끝낼순 없어 내겐 아직도 시간이 있어 지금 이렇게 지금 멈출수는 없어 신문에 실려온 얘기들 헝클어진 우리들을 탓할순 없어 이제 모든걸 다시 시작해 이렇게 여기서 끝낼순 없어 내겐 아직도 시간이 있어 지금 이렇게 지금 나는 여기서 멈출순 없어 이제 모든걸 다시 시작해 나는 여기서 멈출순 없어 이제 모든걸 다시 시작해'"
            ],
            "application/vnd.google.colaboratory.intrinsic+json": {
              "type": "string"
            }
          },
          "metadata": {},
          "execution_count": 12
        }
      ]
    },
    {
      "cell_type": "code",
      "source": [
        "from tensorflow.keras.preprocessing.text import Tokenizer\n",
        "\n",
        "# Tokenizer와 pad_sequences를 사용한 문장 전처리\n",
        "from tensorflow.keras.preprocessing.sequence import pad_sequences\n",
        "\n",
        "tokenizer = Tokenizer(num_words=40000) # 빈도수대로 4만개의 단어만 토큰화(사전화)\n",
        "tokenizer.fit_on_texts(corpus) # 토크나이저에 각 문장을 실제로 입력\n",
        "tensor = tokenizer.texts_to_sequences(corpus) "
      ],
      "metadata": {
        "id": "gA8T9iDQlk8S"
      },
      "execution_count": null,
      "outputs": []
    },
    {
      "cell_type": "code",
      "source": [
        "tensor = tf.keras.preprocessing.sequence.pad_sequences(tensor, padding='post', maxlen=113) "
      ],
      "metadata": {
        "id": "gwfwaHEIqnkA"
      },
      "execution_count": null,
      "outputs": []
    },
    {
      "cell_type": "code",
      "source": [
        "len(tensor)"
      ],
      "metadata": {
        "colab": {
          "base_uri": "https://localhost:8080/"
        },
        "id": "_MymqppQq8fZ",
        "outputId": "afc45c3c-f2e6-45b4-97c5-1bb79a753158"
      },
      "execution_count": null,
      "outputs": [
        {
          "output_type": "execute_result",
          "data": {
            "text/plain": [
              "205"
            ]
          },
          "metadata": {},
          "execution_count": 15
        }
      ]
    },
    {
      "cell_type": "code",
      "source": [
        "len(tensor[0])"
      ],
      "metadata": {
        "colab": {
          "base_uri": "https://localhost:8080/"
        },
        "id": "PNjUftEPwZ5w",
        "outputId": "40f6469a-3371-43eb-bd9a-c1bc7ddabd48"
      },
      "execution_count": null,
      "outputs": [
        {
          "output_type": "execute_result",
          "data": {
            "text/plain": [
              "113"
            ]
          },
          "metadata": {},
          "execution_count": 16
        }
      ]
    },
    {
      "cell_type": "code",
      "source": [
        "src_input = tensor[:, :-1]\n",
        "tgt_input = tensor[:, 1:]"
      ],
      "metadata": {
        "id": "P-R9-JNJrFY6"
      },
      "execution_count": null,
      "outputs": []
    },
    {
      "cell_type": "code",
      "source": [
        "len(src_input[2])"
      ],
      "metadata": {
        "colab": {
          "base_uri": "https://localhost:8080/"
        },
        "id": "P6FHbRY5wmpq",
        "outputId": "fc498167-2c1a-4e1a-e380-3aeab9e9ce0f"
      },
      "execution_count": null,
      "outputs": [
        {
          "output_type": "execute_result",
          "data": {
            "text/plain": [
              "112"
            ]
          },
          "metadata": {},
          "execution_count": 31
        }
      ]
    },
    {
      "cell_type": "code",
      "source": [
        "tgt_input"
      ],
      "metadata": {
        "colab": {
          "base_uri": "https://localhost:8080/"
        },
        "id": "qhBhWyK7wj3S",
        "outputId": "4a2d1aae-0c14-49dc-80af-2bf9139a899b"
      },
      "execution_count": null,
      "outputs": [
        {
          "output_type": "execute_result",
          "data": {
            "text/plain": [
              "array([[   0,    0,    0, ...,    0,    0,    0],\n",
              "       [ 117,   20,  531, ...,    0,    0,    0],\n",
              "       [4673,   27, 1973, ...,   74,  280,   31],\n",
              "       ...,\n",
              "       [ 331,    3,   68, ...,  166,   33,  252],\n",
              "       [1899,    6,   52, ...,  158,  740,  158],\n",
              "       [  95,   95, 1187, ...,   44,   44,   44]], dtype=int32)"
            ]
          },
          "metadata": {},
          "execution_count": 32
        }
      ]
    },
    {
      "cell_type": "code",
      "source": [
        "len(src_input[2])"
      ],
      "metadata": {
        "colab": {
          "base_uri": "https://localhost:8080/"
        },
        "id": "6-p8DxxZxsnF",
        "outputId": "c01a0ae4-9bf9-42cb-e3e1-a351a6b48b17"
      },
      "execution_count": null,
      "outputs": [
        {
          "output_type": "execute_result",
          "data": {
            "text/plain": [
              "112"
            ]
          },
          "metadata": {},
          "execution_count": 33
        }
      ]
    },
    {
      "cell_type": "code",
      "source": [
        "src_input[8]"
      ],
      "metadata": {
        "colab": {
          "base_uri": "https://localhost:8080/"
        },
        "id": "GAoahszHzII3",
        "outputId": "d4e3a157-eae8-4c68-a29f-e18bbf8740d0"
      },
      "execution_count": null,
      "outputs": [
        {
          "output_type": "execute_result",
          "data": {
            "text/plain": [
              "array([ 389,  357, 2925,   30,    6, 2907,   55,    7, 2908,  160,  174,\n",
              "       2909,   98, 4792, 2910, 1998,   55,   85, 2911, 2912,    2,   98,\n",
              "         99,  387,    6,  356, 2913,   49,  267, 1505,   30,  874,  484,\n",
              "         92, 1506, 1024,   58,  601,  267, 1505,   30,  874,  484,   92,\n",
              "       1506, 1024,   58,  601,   15,  123, 2919,   14,  672, 2920,    8,\n",
              "        217, 2921,   36,  541, 1507, 2926,  132, 1025,    8, 2922,  447,\n",
              "        159,    6, 2923,    6,  875,  308,    9,   13,    2,   15,   41,\n",
              "       2914, 2915,  271,    6,  216, 2916,  163,   34,   41, 2917,  285,\n",
              "         26,  873, 2918,    8,  601, 1211,   41,  267,  124,  876,    7,\n",
              "        421, 4793, 2924,  748,   41,  132,  105, 2000,   58,    4,  749,\n",
              "        877,    9], dtype=int32)"
            ]
          },
          "metadata": {},
          "execution_count": 34
        }
      ]
    },
    {
      "cell_type": "code",
      "source": [
        "len(tokenizer.index_word)"
      ],
      "metadata": {
        "colab": {
          "base_uri": "https://localhost:8080/"
        },
        "id": "5I8B5FTqxjud",
        "outputId": "0fce47d9-e992-4658-c5db-cacc02e53a33"
      },
      "execution_count": null,
      "outputs": [
        {
          "output_type": "execute_result",
          "data": {
            "text/plain": [
              "10213"
            ]
          },
          "metadata": {},
          "execution_count": 35
        }
      ]
    },
    {
      "cell_type": "code",
      "source": [
        "tokenizer.index_word[4661]"
      ],
      "metadata": {
        "colab": {
          "base_uri": "https://localhost:8080/",
          "height": 35
        },
        "id": "TYo8wpU9lyow",
        "outputId": "f5affc09-d725-48e2-8689-cf311b5d80ad"
      },
      "execution_count": null,
      "outputs": [
        {
          "output_type": "execute_result",
          "data": {
            "text/plain": [
              "'lyrics'"
            ],
            "application/vnd.google.colaboratory.intrinsic+json": {
              "type": "string"
            }
          },
          "metadata": {},
          "execution_count": 36
        }
      ]
    },
    {
      "cell_type": "code",
      "source": [
        "for idx in tokenizer.index_word:\n",
        "    print(idx, \":\", tokenizer.index_word[idx])\n",
        "\n",
        "    if idx >= 10: break"
      ],
      "metadata": {
        "colab": {
          "base_uri": "https://localhost:8080/"
        },
        "id": "jXCg_RZWPi3r",
        "outputId": "a4d5c6cd-4c12-4c61-9513-e37172a32067"
      },
      "execution_count": null,
      "outputs": [
        {
          "output_type": "stream",
          "name": "stdout",
          "text": [
            "1 : 내\n",
            "2 : 난\n",
            "3 : you\n",
            "4 : 너를\n",
            "5 : 널\n",
            "6 : 너의\n",
            "7 : 나를\n",
            "8 : 날\n",
            "9 : 수\n",
            "10 : 그\n"
          ]
        }
      ]
    },
    {
      "cell_type": "code",
      "source": [
        "from sklearn.model_selection import train_test_split\n",
        "X_train, X_test, y_train, y_test = train_test_split(src_input, tgt_input, test_size=0.2, shuffle=True, random_state=121)"
      ],
      "metadata": {
        "id": "wSZ8zOpgqFC3"
      },
      "execution_count": null,
      "outputs": []
    },
    {
      "cell_type": "code",
      "source": [
        "from tensorflow.keras.layers import Embedding, LSTM, Dense"
      ],
      "metadata": {
        "id": "DicxXcIvZFPm"
      },
      "execution_count": null,
      "outputs": []
    },
    {
      "cell_type": "code",
      "source": [
        "# Embedding() - 단어를 밀집 벡터로 만드는 역할\n",
        "#             - 인공 신경망 용어로는 임베딩 층(embedding layer)을 만드는 역할을 합니다. \n",
        "#             - Embedding()은 정수 인코딩이 된 단어들을 입력을 받아서 임베딩을 수행합니다.\n",
        "\n",
        "from tensorflow.keras.layers import Embedding, LSTM, Dense, Dropout\n",
        "\n",
        "\n",
        "class TextGenerator(tf.keras.Model):\n",
        "    def __init__(self, vocab_size, embedding_size, hidden_size):\n",
        "        super(TextGenerator, self).__init__()\n",
        "        \n",
        "        self.embedding = Embedding(vocab_size, embedding_size)\n",
        "        self.rnn_1 = LSTM(hidden_size, return_sequences=True)\n",
        "        self.rnn_2 = LSTM(hidden_size, return_sequences=True)\n",
        "        self.linear = Dense(vocab_size)\n",
        "        \n",
        "    def call(self, x):\n",
        "        out = self.embedding(x)\n",
        "        out = self.rnn_1(out)\n",
        "        out = self.rnn_2(out)\n",
        "        out = self.linear(out)\n",
        "        \n",
        "        return out"
      ],
      "metadata": {
        "id": "aSZ3SHX89OD4"
      },
      "execution_count": null,
      "outputs": []
    },
    {
      "cell_type": "code",
      "source": [
        "vocab_size = tokenizer.num_words + 1\n",
        "embedding_size = 700\n",
        "hidden_size = 350\n",
        "# drop_rate = 0.2\n",
        "model = TextGenerator(vocab_size, embedding_size , hidden_size)"
      ],
      "metadata": {
        "id": "Uvj95L3NC4BR"
      },
      "execution_count": null,
      "outputs": []
    },
    {
      "cell_type": "code",
      "source": [
        "from tensorflow.python.ops.nn_ops import dropout\n",
        "optimizer = tf.keras.optimizers.Adam()\n",
        "loss = tf.keras.losses.SparseCategoricalCrossentropy(\n",
        "    from_logits=True,\n",
        "    reduction='none'\n",
        ")\n",
        "\n",
        "model.compile(loss=loss, optimizer=optimizer)\n",
        "model.fit(X_train, y_train, epochs=200, batch_size=32)"
      ],
      "metadata": {
        "colab": {
          "base_uri": "https://localhost:8080/"
        },
        "id": "6lwC5wq5DIvw",
        "outputId": "1745a34d-2f11-43b9-d7db-88f99257ef9b"
      },
      "execution_count": null,
      "outputs": [
        {
          "output_type": "stream",
          "name": "stdout",
          "text": [
            "Epoch 1/200\n",
            "6/6 [==============================] - 4s 150ms/step - loss: 10.5748\n",
            "Epoch 2/200\n",
            "6/6 [==============================] - 1s 137ms/step - loss: 9.2813\n",
            "Epoch 3/200\n",
            "6/6 [==============================] - 1s 137ms/step - loss: 8.1030\n",
            "Epoch 4/200\n",
            "6/6 [==============================] - 1s 136ms/step - loss: 7.8848\n",
            "Epoch 5/200\n",
            "6/6 [==============================] - 1s 137ms/step - loss: 7.8081\n",
            "Epoch 6/200\n",
            "6/6 [==============================] - 1s 138ms/step - loss: 7.7966\n",
            "Epoch 7/200\n",
            "6/6 [==============================] - 1s 136ms/step - loss: 7.7901\n",
            "Epoch 8/200\n",
            "6/6 [==============================] - 1s 137ms/step - loss: 7.7671\n",
            "Epoch 9/200\n",
            "6/6 [==============================] - 1s 136ms/step - loss: 7.7747\n",
            "Epoch 10/200\n",
            "6/6 [==============================] - 1s 136ms/step - loss: 7.7655\n",
            "Epoch 11/200\n",
            "6/6 [==============================] - 1s 136ms/step - loss: 7.7597\n",
            "Epoch 12/200\n",
            "6/6 [==============================] - 1s 137ms/step - loss: 7.7523\n",
            "Epoch 13/200\n",
            "6/6 [==============================] - 1s 136ms/step - loss: 7.7347\n",
            "Epoch 14/200\n",
            "6/6 [==============================] - 1s 138ms/step - loss: 7.7502\n",
            "Epoch 15/200\n",
            "6/6 [==============================] - 1s 138ms/step - loss: 7.7492\n",
            "Epoch 16/200\n",
            "6/6 [==============================] - 1s 137ms/step - loss: 7.7390\n",
            "Epoch 17/200\n",
            "6/6 [==============================] - 1s 138ms/step - loss: 7.7512\n",
            "Epoch 18/200\n",
            "6/6 [==============================] - 1s 139ms/step - loss: 7.7511\n",
            "Epoch 19/200\n",
            "6/6 [==============================] - 1s 137ms/step - loss: 7.7461\n",
            "Epoch 20/200\n",
            "6/6 [==============================] - 1s 139ms/step - loss: 7.7484\n",
            "Epoch 21/200\n",
            "6/6 [==============================] - 1s 140ms/step - loss: 7.7607\n",
            "Epoch 22/200\n",
            "6/6 [==============================] - 1s 138ms/step - loss: 7.7508\n",
            "Epoch 23/200\n",
            "6/6 [==============================] - 1s 140ms/step - loss: 7.7606\n",
            "Epoch 24/200\n",
            "6/6 [==============================] - 1s 138ms/step - loss: 7.7465\n",
            "Epoch 25/200\n",
            "6/6 [==============================] - 1s 139ms/step - loss: 7.7488\n",
            "Epoch 26/200\n",
            "6/6 [==============================] - 1s 143ms/step - loss: 7.7486\n",
            "Epoch 27/200\n",
            "6/6 [==============================] - 1s 141ms/step - loss: 7.7287\n",
            "Epoch 28/200\n",
            "6/6 [==============================] - 1s 141ms/step - loss: 7.7474\n",
            "Epoch 29/200\n",
            "6/6 [==============================] - 1s 139ms/step - loss: 7.7464\n",
            "Epoch 30/200\n",
            "6/6 [==============================] - 1s 140ms/step - loss: 7.7468\n",
            "Epoch 31/200\n",
            "6/6 [==============================] - 1s 143ms/step - loss: 7.7423\n",
            "Epoch 32/200\n",
            "6/6 [==============================] - 1s 141ms/step - loss: 7.7473\n",
            "Epoch 33/200\n",
            "6/6 [==============================] - 1s 144ms/step - loss: 7.7457\n",
            "Epoch 34/200\n",
            "6/6 [==============================] - 1s 140ms/step - loss: 7.7432\n",
            "Epoch 35/200\n",
            "6/6 [==============================] - 1s 143ms/step - loss: 7.7380\n",
            "Epoch 36/200\n",
            "6/6 [==============================] - 1s 143ms/step - loss: 7.7470\n",
            "Epoch 37/200\n",
            "6/6 [==============================] - 1s 144ms/step - loss: 7.7428\n",
            "Epoch 38/200\n",
            "6/6 [==============================] - 1s 144ms/step - loss: 7.7397\n",
            "Epoch 39/200\n",
            "6/6 [==============================] - 1s 144ms/step - loss: 7.7341\n",
            "Epoch 40/200\n",
            "6/6 [==============================] - 1s 142ms/step - loss: 7.7307\n",
            "Epoch 41/200\n",
            "6/6 [==============================] - 1s 144ms/step - loss: 7.7452\n",
            "Epoch 42/200\n",
            "6/6 [==============================] - 1s 144ms/step - loss: 7.7359\n",
            "Epoch 43/200\n",
            "6/6 [==============================] - 1s 145ms/step - loss: 7.7377\n",
            "Epoch 44/200\n",
            "6/6 [==============================] - 1s 144ms/step - loss: 7.7308\n",
            "Epoch 45/200\n",
            "6/6 [==============================] - 1s 145ms/step - loss: 7.7301\n",
            "Epoch 46/200\n",
            "6/6 [==============================] - 1s 145ms/step - loss: 7.7280\n",
            "Epoch 47/200\n",
            "6/6 [==============================] - 1s 150ms/step - loss: 7.7375\n",
            "Epoch 48/200\n",
            "6/6 [==============================] - 1s 154ms/step - loss: 7.7282\n",
            "Epoch 49/200\n",
            "6/6 [==============================] - 1s 152ms/step - loss: 7.7187\n",
            "Epoch 50/200\n",
            "6/6 [==============================] - 1s 153ms/step - loss: 7.7208\n",
            "Epoch 51/200\n",
            "6/6 [==============================] - 1s 158ms/step - loss: 7.7008\n",
            "Epoch 52/200\n",
            "6/6 [==============================] - 1s 156ms/step - loss: 7.7074\n",
            "Epoch 53/200\n",
            "6/6 [==============================] - 1s 155ms/step - loss: 7.7060\n",
            "Epoch 54/200\n",
            "6/6 [==============================] - 1s 159ms/step - loss: 7.7016\n",
            "Epoch 55/200\n",
            "6/6 [==============================] - 1s 156ms/step - loss: 7.7045\n",
            "Epoch 56/200\n",
            "6/6 [==============================] - 1s 151ms/step - loss: 7.6768\n",
            "Epoch 57/200\n",
            "6/6 [==============================] - 1s 151ms/step - loss: 7.6666\n",
            "Epoch 58/200\n",
            "6/6 [==============================] - 1s 148ms/step - loss: 7.6466\n",
            "Epoch 59/200\n",
            "6/6 [==============================] - 1s 149ms/step - loss: 7.6254\n",
            "Epoch 60/200\n",
            "6/6 [==============================] - 1s 147ms/step - loss: 7.6119\n",
            "Epoch 61/200\n",
            "6/6 [==============================] - 1s 148ms/step - loss: 7.5918\n",
            "Epoch 62/200\n",
            "6/6 [==============================] - 1s 149ms/step - loss: 7.5825\n",
            "Epoch 63/200\n",
            "6/6 [==============================] - 1s 148ms/step - loss: 7.5619\n",
            "Epoch 64/200\n",
            "6/6 [==============================] - 1s 150ms/step - loss: 7.5503\n",
            "Epoch 65/200\n",
            "6/6 [==============================] - 1s 147ms/step - loss: 7.5289\n",
            "Epoch 66/200\n",
            "6/6 [==============================] - 1s 145ms/step - loss: 7.5137\n",
            "Epoch 67/200\n",
            "6/6 [==============================] - 1s 146ms/step - loss: 7.4974\n",
            "Epoch 68/200\n",
            "6/6 [==============================] - 1s 146ms/step - loss: 7.4971\n",
            "Epoch 69/200\n",
            "6/6 [==============================] - 1s 147ms/step - loss: 7.4691\n",
            "Epoch 70/200\n",
            "6/6 [==============================] - 1s 145ms/step - loss: 7.4658\n",
            "Epoch 71/200\n",
            "6/6 [==============================] - 1s 146ms/step - loss: 7.4297\n",
            "Epoch 72/200\n",
            "6/6 [==============================] - 1s 146ms/step - loss: 7.4417\n",
            "Epoch 73/200\n",
            "6/6 [==============================] - 1s 145ms/step - loss: 7.3976\n",
            "Epoch 74/200\n",
            "6/6 [==============================] - 1s 146ms/step - loss: 7.3825\n",
            "Epoch 75/200\n",
            "6/6 [==============================] - 1s 145ms/step - loss: 7.3627\n",
            "Epoch 76/200\n",
            "6/6 [==============================] - 1s 146ms/step - loss: 7.3349\n",
            "Epoch 77/200\n",
            "6/6 [==============================] - 1s 145ms/step - loss: 7.3029\n",
            "Epoch 78/200\n",
            "6/6 [==============================] - 1s 144ms/step - loss: 7.2689\n",
            "Epoch 79/200\n",
            "6/6 [==============================] - 1s 146ms/step - loss: 7.2360\n",
            "Epoch 80/200\n",
            "6/6 [==============================] - 1s 144ms/step - loss: 7.2000\n",
            "Epoch 81/200\n",
            "6/6 [==============================] - 1s 145ms/step - loss: 7.1575\n",
            "Epoch 82/200\n",
            "6/6 [==============================] - 1s 145ms/step - loss: 7.1232\n",
            "Epoch 83/200\n",
            "6/6 [==============================] - 1s 145ms/step - loss: 7.0995\n",
            "Epoch 84/200\n",
            "6/6 [==============================] - 1s 148ms/step - loss: 7.0534\n",
            "Epoch 85/200\n",
            "6/6 [==============================] - 1s 145ms/step - loss: 7.0314\n",
            "Epoch 86/200\n",
            "6/6 [==============================] - 1s 143ms/step - loss: 6.9891\n",
            "Epoch 87/200\n",
            "6/6 [==============================] - 1s 145ms/step - loss: 6.9636\n",
            "Epoch 88/200\n",
            "6/6 [==============================] - 1s 142ms/step - loss: 6.9235\n",
            "Epoch 89/200\n",
            "6/6 [==============================] - 1s 144ms/step - loss: 6.8914\n",
            "Epoch 90/200\n",
            "6/6 [==============================] - 1s 144ms/step - loss: 6.8665\n",
            "Epoch 91/200\n",
            "6/6 [==============================] - 1s 144ms/step - loss: 6.8237\n",
            "Epoch 92/200\n",
            "6/6 [==============================] - 1s 144ms/step - loss: 6.7987\n",
            "Epoch 93/200\n",
            "6/6 [==============================] - 1s 145ms/step - loss: 6.7697\n",
            "Epoch 94/200\n",
            "6/6 [==============================] - 1s 143ms/step - loss: 6.8088\n",
            "Epoch 95/200\n",
            "6/6 [==============================] - 1s 145ms/step - loss: 6.7536\n",
            "Epoch 96/200\n",
            "6/6 [==============================] - 1s 145ms/step - loss: 6.7196\n",
            "Epoch 97/200\n",
            "6/6 [==============================] - 1s 143ms/step - loss: 6.6763\n",
            "Epoch 98/200\n",
            "6/6 [==============================] - 1s 144ms/step - loss: 6.6459\n",
            "Epoch 99/200\n",
            "6/6 [==============================] - 1s 143ms/step - loss: 6.6250\n",
            "Epoch 100/200\n",
            "6/6 [==============================] - 1s 144ms/step - loss: 6.6120\n",
            "Epoch 101/200\n",
            "6/6 [==============================] - 1s 143ms/step - loss: 6.5896\n",
            "Epoch 102/200\n",
            "6/6 [==============================] - 1s 143ms/step - loss: 6.5659\n",
            "Epoch 103/200\n",
            "6/6 [==============================] - 1s 144ms/step - loss: 6.5507\n",
            "Epoch 104/200\n",
            "6/6 [==============================] - 1s 143ms/step - loss: 6.5251\n",
            "Epoch 105/200\n",
            "6/6 [==============================] - 1s 144ms/step - loss: 6.4946\n",
            "Epoch 106/200\n",
            "6/6 [==============================] - 1s 144ms/step - loss: 6.4634\n",
            "Epoch 107/200\n",
            "6/6 [==============================] - 1s 144ms/step - loss: 6.4365\n",
            "Epoch 108/200\n",
            "6/6 [==============================] - 1s 144ms/step - loss: 6.4260\n",
            "Epoch 109/200\n",
            "6/6 [==============================] - 1s 143ms/step - loss: 6.3875\n",
            "Epoch 110/200\n",
            "6/6 [==============================] - 1s 144ms/step - loss: 6.3584\n",
            "Epoch 111/200\n",
            "6/6 [==============================] - 1s 144ms/step - loss: 6.3396\n",
            "Epoch 112/200\n",
            "6/6 [==============================] - 1s 145ms/step - loss: 6.3197\n",
            "Epoch 113/200\n",
            "6/6 [==============================] - 1s 146ms/step - loss: 6.2981\n",
            "Epoch 114/200\n",
            "6/6 [==============================] - 1s 145ms/step - loss: 6.2968\n",
            "Epoch 115/200\n",
            "6/6 [==============================] - 1s 145ms/step - loss: 6.2518\n",
            "Epoch 116/200\n",
            "6/6 [==============================] - 1s 147ms/step - loss: 6.2294\n",
            "Epoch 117/200\n",
            "6/6 [==============================] - 1s 146ms/step - loss: 6.2165\n",
            "Epoch 118/200\n",
            "6/6 [==============================] - 1s 148ms/step - loss: 6.1962\n",
            "Epoch 119/200\n",
            "6/6 [==============================] - 1s 149ms/step - loss: 6.1753\n",
            "Epoch 120/200\n",
            "6/6 [==============================] - 1s 144ms/step - loss: 6.1548\n",
            "Epoch 121/200\n",
            "6/6 [==============================] - 1s 144ms/step - loss: 6.1519\n",
            "Epoch 122/200\n",
            "6/6 [==============================] - 1s 146ms/step - loss: 6.1229\n",
            "Epoch 123/200\n",
            "6/6 [==============================] - 1s 145ms/step - loss: 6.1130\n",
            "Epoch 124/200\n",
            "6/6 [==============================] - 1s 147ms/step - loss: 6.0999\n",
            "Epoch 125/200\n",
            "6/6 [==============================] - 1s 146ms/step - loss: 6.0724\n",
            "Epoch 126/200\n",
            "6/6 [==============================] - 1s 145ms/step - loss: 6.0537\n",
            "Epoch 127/200\n",
            "6/6 [==============================] - 1s 147ms/step - loss: 6.0177\n",
            "Epoch 128/200\n",
            "6/6 [==============================] - 1s 147ms/step - loss: 5.9904\n",
            "Epoch 129/200\n",
            "6/6 [==============================] - 1s 146ms/step - loss: 5.9727\n",
            "Epoch 130/200\n",
            "6/6 [==============================] - 1s 146ms/step - loss: 5.9577\n",
            "Epoch 131/200\n",
            "6/6 [==============================] - 1s 146ms/step - loss: 5.9376\n",
            "Epoch 132/200\n",
            "6/6 [==============================] - 1s 147ms/step - loss: 5.9194\n",
            "Epoch 133/200\n",
            "6/6 [==============================] - 1s 146ms/step - loss: 5.8986\n",
            "Epoch 134/200\n",
            "6/6 [==============================] - 1s 147ms/step - loss: 5.9013\n",
            "Epoch 135/200\n",
            "6/6 [==============================] - 1s 146ms/step - loss: 5.8698\n",
            "Epoch 136/200\n",
            "6/6 [==============================] - 1s 147ms/step - loss: 5.8520\n",
            "Epoch 137/200\n",
            "6/6 [==============================] - 1s 148ms/step - loss: 5.8311\n",
            "Epoch 138/200\n",
            "6/6 [==============================] - 1s 146ms/step - loss: 5.8257\n",
            "Epoch 139/200\n",
            "6/6 [==============================] - 1s 147ms/step - loss: 5.8009\n",
            "Epoch 140/200\n",
            "6/6 [==============================] - 1s 147ms/step - loss: 5.7623\n",
            "Epoch 141/200\n",
            "6/6 [==============================] - 1s 147ms/step - loss: 5.7427\n",
            "Epoch 142/200\n",
            "6/6 [==============================] - 1s 146ms/step - loss: 5.7243\n",
            "Epoch 143/200\n",
            "6/6 [==============================] - 1s 147ms/step - loss: 5.7037\n",
            "Epoch 144/200\n",
            "6/6 [==============================] - 1s 146ms/step - loss: 5.6930\n",
            "Epoch 145/200\n",
            "6/6 [==============================] - 1s 147ms/step - loss: 5.6736\n",
            "Epoch 146/200\n",
            "6/6 [==============================] - 1s 147ms/step - loss: 5.6679\n",
            "Epoch 147/200\n",
            "6/6 [==============================] - 1s 147ms/step - loss: 5.6462\n",
            "Epoch 148/200\n",
            "6/6 [==============================] - 1s 147ms/step - loss: 5.6267\n",
            "Epoch 149/200\n",
            "6/6 [==============================] - 1s 148ms/step - loss: 5.6348\n",
            "Epoch 150/200\n",
            "6/6 [==============================] - 1s 146ms/step - loss: 5.6042\n",
            "Epoch 151/200\n",
            "6/6 [==============================] - 1s 145ms/step - loss: 5.5671\n",
            "Epoch 152/200\n",
            "6/6 [==============================] - 1s 146ms/step - loss: 5.5524\n",
            "Epoch 153/200\n",
            "6/6 [==============================] - 1s 146ms/step - loss: 5.5271\n",
            "Epoch 154/200\n",
            "6/6 [==============================] - 1s 147ms/step - loss: 5.5160\n",
            "Epoch 155/200\n",
            "6/6 [==============================] - 1s 146ms/step - loss: 5.4852\n",
            "Epoch 156/200\n",
            "6/6 [==============================] - 1s 145ms/step - loss: 5.4532\n",
            "Epoch 157/200\n",
            "6/6 [==============================] - 1s 146ms/step - loss: 5.4414\n",
            "Epoch 158/200\n",
            "6/6 [==============================] - 1s 148ms/step - loss: 5.4084\n",
            "Epoch 159/200\n",
            "6/6 [==============================] - 1s 147ms/step - loss: 5.4045\n",
            "Epoch 160/200\n",
            "6/6 [==============================] - 1s 147ms/step - loss: 5.3823\n",
            "Epoch 161/200\n",
            "6/6 [==============================] - 1s 146ms/step - loss: 5.3653\n",
            "Epoch 162/200\n",
            "6/6 [==============================] - 1s 147ms/step - loss: 5.3476\n",
            "Epoch 163/200\n",
            "6/6 [==============================] - 1s 145ms/step - loss: 5.3211\n",
            "Epoch 164/200\n",
            "6/6 [==============================] - 1s 146ms/step - loss: 5.2996\n",
            "Epoch 165/200\n",
            "6/6 [==============================] - 1s 146ms/step - loss: 5.3169\n",
            "Epoch 166/200\n",
            "6/6 [==============================] - 1s 149ms/step - loss: 5.2990\n",
            "Epoch 167/200\n",
            "6/6 [==============================] - 1s 145ms/step - loss: 5.2891\n",
            "Epoch 168/200\n",
            "6/6 [==============================] - 1s 147ms/step - loss: 5.2681\n",
            "Epoch 169/200\n",
            "6/6 [==============================] - 1s 147ms/step - loss: 5.2577\n",
            "Epoch 170/200\n",
            "6/6 [==============================] - 1s 146ms/step - loss: 5.2376\n",
            "Epoch 171/200\n",
            "6/6 [==============================] - 1s 146ms/step - loss: 5.2184\n",
            "Epoch 172/200\n",
            "6/6 [==============================] - 1s 145ms/step - loss: 5.1916\n",
            "Epoch 173/200\n",
            "6/6 [==============================] - 1s 146ms/step - loss: 5.1582\n",
            "Epoch 174/200\n",
            "6/6 [==============================] - 1s 145ms/step - loss: 5.1601\n",
            "Epoch 175/200\n",
            "6/6 [==============================] - 1s 145ms/step - loss: 5.1224\n",
            "Epoch 176/200\n",
            "6/6 [==============================] - 1s 144ms/step - loss: 5.1218\n",
            "Epoch 177/200\n",
            "6/6 [==============================] - 1s 145ms/step - loss: 5.0867\n",
            "Epoch 178/200\n",
            "6/6 [==============================] - 1s 145ms/step - loss: 5.0566\n",
            "Epoch 179/200\n",
            "6/6 [==============================] - 1s 145ms/step - loss: 5.0545\n",
            "Epoch 180/200\n",
            "6/6 [==============================] - 1s 146ms/step - loss: 5.0481\n",
            "Epoch 181/200\n",
            "6/6 [==============================] - 1s 145ms/step - loss: 5.0044\n",
            "Epoch 182/200\n",
            "6/6 [==============================] - 1s 145ms/step - loss: 4.9803\n",
            "Epoch 183/200\n",
            "6/6 [==============================] - 1s 146ms/step - loss: 4.9798\n",
            "Epoch 184/200\n",
            "6/6 [==============================] - 1s 146ms/step - loss: 4.9445\n",
            "Epoch 185/200\n",
            "6/6 [==============================] - 1s 144ms/step - loss: 4.9260\n",
            "Epoch 186/200\n",
            "6/6 [==============================] - 1s 144ms/step - loss: 4.9232\n",
            "Epoch 187/200\n",
            "6/6 [==============================] - 1s 144ms/step - loss: 4.8892\n",
            "Epoch 188/200\n",
            "6/6 [==============================] - 1s 145ms/step - loss: 4.8926\n",
            "Epoch 189/200\n",
            "6/6 [==============================] - 1s 144ms/step - loss: 4.8724\n",
            "Epoch 190/200\n",
            "6/6 [==============================] - 1s 145ms/step - loss: 4.8434\n",
            "Epoch 191/200\n",
            "6/6 [==============================] - 1s 144ms/step - loss: 4.8151\n",
            "Epoch 192/200\n",
            "6/6 [==============================] - 1s 144ms/step - loss: 4.7984\n",
            "Epoch 193/200\n",
            "6/6 [==============================] - 1s 144ms/step - loss: 4.7869\n",
            "Epoch 194/200\n",
            "6/6 [==============================] - 1s 145ms/step - loss: 4.7711\n",
            "Epoch 195/200\n",
            "6/6 [==============================] - 1s 146ms/step - loss: 4.7573\n",
            "Epoch 196/200\n",
            "6/6 [==============================] - 1s 148ms/step - loss: 4.7416\n",
            "Epoch 197/200\n",
            "6/6 [==============================] - 1s 144ms/step - loss: 4.7445\n",
            "Epoch 198/200\n",
            "6/6 [==============================] - 1s 147ms/step - loss: 4.7034\n",
            "Epoch 199/200\n",
            "6/6 [==============================] - 1s 145ms/step - loss: 4.6936\n",
            "Epoch 200/200\n",
            "6/6 [==============================] - 1s 145ms/step - loss: 4.6841\n"
          ]
        },
        {
          "output_type": "execute_result",
          "data": {
            "text/plain": [
              "<keras.callbacks.History at 0x7f6b86be5e90>"
            ]
          },
          "metadata": {},
          "execution_count": 42
        }
      ]
    },
    {
      "cell_type": "code",
      "source": [
        "# 문장 생성 함수\n",
        "def generate_text(model, tokenizer, init_sentence=\"<start>\", max_len=20):\n",
        "    # 테스트를 위해서 입력받은 init_sentence도 일단 텐서로 변환합니다.\n",
        "    test_input = tokenizer.texts_to_sequences([init_sentence])\n",
        "    test_tensor = tf.convert_to_tensor(test_input, dtype=tf.int64)\n",
        "    # end_token = tokenizer.word_index[\"<end>\"]\n",
        "\n",
        "    # 텍스트를 실제로 생성할때는 루프를 돌면서 단어 하나씩 생성해야 합니다. \n",
        "    while True:\n",
        "        predict = model(test_tensor)  # 입력받은 문장의 텐서를 입력합니다. \n",
        "        predict_word = tf.argmax(tf.nn.softmax(predict, axis=-1), axis=-1)[:, -1]   # 우리 모델이 예측한 마지막 단어가 바로 새롭게 생성한 단어가 됩니다. \n",
        "\n",
        "        # 우리 모델이 새롭게 예측한 단어를 입력 문장의 뒤에 붙여 줍니다. \n",
        "        test_tensor = tf.concat([test_tensor, tf.expand_dims(predict_word, axis=0)], axis=-1)\n",
        "\n",
        "        # # 우리 모델이 <end>를 예측했거나, max_len에 도달하지 않았다면  while 루프를 또 돌면서 다음 단어를 예측해야 합니다.\n",
        "        # if predict_word.numpy()[0] == end_token: break\n",
        "        # if test_tensor.shape[1] >= max_len: break\n",
        "\n",
        "\n",
        "    generated = \"\"\n",
        "        # 생성된 tensor 안에 있는 word index를 tokenizer.index_word 사전을 통해 실제 단어로 하나씩 변환합니다. \n",
        "    for word_index in test_tensor[0].numpy():\n",
        "        if word_index == 0:\n",
        "            continue\n",
        "        generated += tokenizer.index_word[word_index] + \" \"\n",
        "\n",
        "    return generated #최종적으로 모델이 생성한 자연어 문장"
      ],
      "metadata": {
        "id": "titmK4qGGaC1"
      },
      "execution_count": null,
      "outputs": []
    },
    {
      "cell_type": "code",
      "source": [
        "# 크롤링한 댄스 50곡으로 200번 학습한 결과, okt 사용, <start>, <end> 추가 \n",
        "\n",
        "print('예시1.', generate_text(model, tokenizer, init_sentence='힘내', max_len=50))\n",
        "print('예시2.', generate_text(model, tokenizer, init_sentence='슬픔', max_len=50))\n",
        "print('예시3.', generate_text(model, tokenizer, init_sentence='비가 내려', max_len=50))\n",
        "print('예시4.', generate_text(model, tokenizer, init_sentence='i love', max_len=50))"
      ],
      "metadata": {
        "colab": {
          "base_uri": "https://localhost:8080/",
          "height": 372
        },
        "id": "gLFgsWYEGc7F",
        "outputId": "92ca0001-d5f7-4dd6-ffca-9312fa53179d"
      },
      "execution_count": null,
      "outputs": [
        {
          "output_type": "error",
          "ename": "NameError",
          "evalue": "ignored",
          "traceback": [
            "\u001b[0;31m---------------------------------------------------------------------------\u001b[0m",
            "\u001b[0;31mNameError\u001b[0m                                 Traceback (most recent call last)",
            "\u001b[0;32m<ipython-input-49-5b923a3df942>\u001b[0m in \u001b[0;36m<module>\u001b[0;34m\u001b[0m\n\u001b[1;32m      1\u001b[0m \u001b[0;31m# 크롤링한 댄스 50곡으로 200번 학습한 결과, okt 사용, <start>, <end> 추가\u001b[0m\u001b[0;34m\u001b[0m\u001b[0;34m\u001b[0m\u001b[0;34m\u001b[0m\u001b[0m\n\u001b[1;32m      2\u001b[0m \u001b[0;34m\u001b[0m\u001b[0m\n\u001b[0;32m----> 3\u001b[0;31m \u001b[0mprint\u001b[0m\u001b[0;34m(\u001b[0m\u001b[0;34m'예시1.'\u001b[0m\u001b[0;34m,\u001b[0m \u001b[0mgenerate_text\u001b[0m\u001b[0;34m(\u001b[0m\u001b[0mmodel\u001b[0m\u001b[0;34m,\u001b[0m \u001b[0mtokenizer\u001b[0m\u001b[0;34m,\u001b[0m \u001b[0minit_sentence\u001b[0m\u001b[0;34m=\u001b[0m\u001b[0;34m'힘내'\u001b[0m\u001b[0;34m,\u001b[0m \u001b[0mmax_len\u001b[0m\u001b[0;34m=\u001b[0m\u001b[0;36m50\u001b[0m\u001b[0;34m)\u001b[0m\u001b[0;34m)\u001b[0m\u001b[0;34m\u001b[0m\u001b[0;34m\u001b[0m\u001b[0m\n\u001b[0m\u001b[1;32m      4\u001b[0m \u001b[0mprint\u001b[0m\u001b[0;34m(\u001b[0m\u001b[0;34m'예시2.'\u001b[0m\u001b[0;34m,\u001b[0m \u001b[0mgenerate_text\u001b[0m\u001b[0;34m(\u001b[0m\u001b[0mmodel\u001b[0m\u001b[0;34m,\u001b[0m \u001b[0mtokenizer\u001b[0m\u001b[0;34m,\u001b[0m \u001b[0minit_sentence\u001b[0m\u001b[0;34m=\u001b[0m\u001b[0;34m'슬픔'\u001b[0m\u001b[0;34m,\u001b[0m \u001b[0mmax_len\u001b[0m\u001b[0;34m=\u001b[0m\u001b[0;36m50\u001b[0m\u001b[0;34m)\u001b[0m\u001b[0;34m)\u001b[0m\u001b[0;34m\u001b[0m\u001b[0;34m\u001b[0m\u001b[0m\n\u001b[1;32m      5\u001b[0m \u001b[0mprint\u001b[0m\u001b[0;34m(\u001b[0m\u001b[0;34m'예시3.'\u001b[0m\u001b[0;34m,\u001b[0m \u001b[0mgenerate_text\u001b[0m\u001b[0;34m(\u001b[0m\u001b[0mmodel\u001b[0m\u001b[0;34m,\u001b[0m \u001b[0mtokenizer\u001b[0m\u001b[0;34m,\u001b[0m \u001b[0minit_sentence\u001b[0m\u001b[0;34m=\u001b[0m\u001b[0;34m'비가 내려'\u001b[0m\u001b[0;34m,\u001b[0m \u001b[0mmax_len\u001b[0m\u001b[0;34m=\u001b[0m\u001b[0;36m50\u001b[0m\u001b[0;34m)\u001b[0m\u001b[0;34m)\u001b[0m\u001b[0;34m\u001b[0m\u001b[0;34m\u001b[0m\u001b[0m\n",
            "\u001b[0;32m<ipython-input-47-b04770dd3ef5>\u001b[0m in \u001b[0;36mgenerate_text\u001b[0;34m(model, tokenizer, init_sentence, max_len)\u001b[0m\n\u001b[1;32m     15\u001b[0m \u001b[0;34m\u001b[0m\u001b[0m\n\u001b[1;32m     16\u001b[0m         \u001b[0;31m# 우리 모델이 <end>를 예측했거나, max_len에 도달하지 않았다면  while 루프를 또 돌면서 다음 단어를 예측해야 합니다.\u001b[0m\u001b[0;34m\u001b[0m\u001b[0;34m\u001b[0m\u001b[0;34m\u001b[0m\u001b[0m\n\u001b[0;32m---> 17\u001b[0;31m         \u001b[0;32mif\u001b[0m \u001b[0mpredict_word\u001b[0m\u001b[0;34m.\u001b[0m\u001b[0mnumpy\u001b[0m\u001b[0;34m(\u001b[0m\u001b[0;34m)\u001b[0m\u001b[0;34m[\u001b[0m\u001b[0;36m0\u001b[0m\u001b[0;34m]\u001b[0m \u001b[0;34m==\u001b[0m \u001b[0mend_token\u001b[0m\u001b[0;34m:\u001b[0m \u001b[0;32mbreak\u001b[0m\u001b[0;34m\u001b[0m\u001b[0;34m\u001b[0m\u001b[0m\n\u001b[0m\u001b[1;32m     18\u001b[0m         \u001b[0;32mif\u001b[0m \u001b[0mtest_tensor\u001b[0m\u001b[0;34m.\u001b[0m\u001b[0mshape\u001b[0m\u001b[0;34m[\u001b[0m\u001b[0;36m1\u001b[0m\u001b[0;34m]\u001b[0m \u001b[0;34m>=\u001b[0m \u001b[0mmax_len\u001b[0m\u001b[0;34m:\u001b[0m \u001b[0;32mbreak\u001b[0m\u001b[0;34m\u001b[0m\u001b[0;34m\u001b[0m\u001b[0m\n\u001b[1;32m     19\u001b[0m \u001b[0;34m\u001b[0m\u001b[0m\n",
            "\u001b[0;31mNameError\u001b[0m: name 'end_token' is not defined"
          ]
        }
      ]
    },
    {
      "cell_type": "code",
      "source": [
        "# # 감성 분석 모델 정의\n",
        "# model = tf.keras.Sequential([\n",
        "#     tf.keras.layers.Embedding(40000, 1, input_length=113),\n",
        "#     tf.keras.layers.LSTM(units=30, return_sequences=True, input_shape=[100,2]), \n",
        "#     tf.keras.layers.LSTM(units=50),\n",
        "#     tf.keras.layers.Dense(32, activation='relu'),\n",
        "#     tf.keras.layers.Dropout(rate=0.3),\n",
        "#     tf.keras.layers.Dense(1, activation='softmax') \n",
        "# ])\n",
        "\n",
        "# model.compile(optimizer='rmsprop', loss='categorical_crossentropy', metrics=['accuracy'])\n",
        "# model.summary()"
      ],
      "metadata": {
        "colab": {
          "base_uri": "https://localhost:8080/"
        },
        "id": "hFyYKjPZsA3g",
        "outputId": "aef9d367-f1c4-4f14-b436-b31e74045a2c"
      },
      "execution_count": null,
      "outputs": [
        {
          "output_type": "stream",
          "name": "stdout",
          "text": [
            "Model: \"sequential\"\n",
            "_________________________________________________________________\n",
            " Layer (type)                Output Shape              Param #   \n",
            "=================================================================\n",
            " embedding (Embedding)       (None, 113, 1)            40000     \n",
            "                                                                 \n",
            " lstm (LSTM)                 (None, 113, 30)           3840      \n",
            "                                                                 \n",
            " lstm_1 (LSTM)               (None, 50)                16200     \n",
            "                                                                 \n",
            " dense (Dense)               (None, 32)                1632      \n",
            "                                                                 \n",
            " dropout (Dropout)           (None, 32)                0         \n",
            "                                                                 \n",
            " dense_1 (Dense)             (None, 1)                 33        \n",
            "                                                                 \n",
            "=================================================================\n",
            "Total params: 61,705\n",
            "Trainable params: 61,705\n",
            "Non-trainable params: 0\n",
            "_________________________________________________________________\n"
          ]
        }
      ]
    },
    {
      "cell_type": "code",
      "source": [
        "y_train"
      ],
      "metadata": {
        "colab": {
          "base_uri": "https://localhost:8080/"
        },
        "id": "WIZNvWwG-NIk",
        "outputId": "bd9b83c6-b82e-4961-c5e1-aff5d62e6f57"
      },
      "execution_count": null,
      "outputs": [
        {
          "output_type": "execute_result",
          "data": {
            "text/plain": [
              "array([0, 0, 0, 0, 0, 0, 0, 0, 0, 0, 0, 0, 0, 0, 0, 0, 0, 0, 0, 0, 0, 0,\n",
              "       0, 0, 0, 0, 0, 0, 0, 0, 0, 0, 0, 0, 0, 0, 0, 0, 0, 0, 0, 0, 0, 0,\n",
              "       0, 0, 0, 0, 0, 0, 0, 0, 0, 0, 0, 0, 0, 0, 0, 0, 0, 0, 0, 0, 0, 0,\n",
              "       0, 0, 0, 0, 0, 0, 0, 0, 0, 0, 0, 0, 0, 0, 0, 0, 0, 0, 0, 0, 0, 0,\n",
              "       0, 0, 0, 0, 0, 0, 0, 0, 0, 0, 0, 0, 0, 0, 0, 0, 0, 0, 0, 0, 0, 0,\n",
              "       0, 0, 0, 0, 0, 0, 0, 0, 0, 0, 0, 0, 0, 0, 0, 0, 0, 0, 0, 0, 0, 0,\n",
              "       0, 0, 0, 0, 0, 0, 0, 0, 0, 0, 0, 0, 0, 0, 0, 0, 0, 0, 0, 0, 0, 0,\n",
              "       0, 0, 0, 0, 0, 0, 0, 0, 0, 0])"
            ]
          },
          "metadata": {},
          "execution_count": 27
        }
      ]
    },
    {
      "cell_type": "code",
      "source": [
        "X_train.shape"
      ],
      "metadata": {
        "colab": {
          "base_uri": "https://localhost:8080/"
        },
        "id": "OCFXGNYFvcKu",
        "outputId": "c8a4646a-ba3b-4f27-b275-431384cb260d"
      },
      "execution_count": null,
      "outputs": [
        {
          "output_type": "execute_result",
          "data": {
            "text/plain": [
              "(164, 113)"
            ]
          },
          "metadata": {},
          "execution_count": 28
        }
      ]
    },
    {
      "cell_type": "code",
      "source": [
        "y_train.shape"
      ],
      "metadata": {
        "colab": {
          "base_uri": "https://localhost:8080/"
        },
        "id": "xW-gBsqy71TT",
        "outputId": "92cd9740-376b-4115-dbe1-b81d2cdb4040"
      },
      "execution_count": null,
      "outputs": [
        {
          "output_type": "execute_result",
          "data": {
            "text/plain": [
              "(164,)"
            ]
          },
          "metadata": {},
          "execution_count": 29
        }
      ]
    },
    {
      "cell_type": "code",
      "source": [
        "y_test.shape"
      ],
      "metadata": {
        "colab": {
          "base_uri": "https://localhost:8080/"
        },
        "id": "RkCCQnZg6qI-",
        "outputId": "880fd3e9-7a11-430d-96a5-0eaa061900d6"
      },
      "execution_count": null,
      "outputs": [
        {
          "output_type": "execute_result",
          "data": {
            "text/plain": [
              "(41,)"
            ]
          },
          "metadata": {},
          "execution_count": 30
        }
      ]
    },
    {
      "cell_type": "code",
      "source": [
        "# history = model.fit(X_train, y_train, epochs=10, batch_size=256, verbose=1, callbacks=[tf.keras.callbacks.EarlyStopping(patience=6, monitor='loss')])"
      ],
      "metadata": {
        "id": "fLbIji8iZFRy",
        "colab": {
          "base_uri": "https://localhost:8080/"
        },
        "outputId": "8436d040-507f-4c7c-a426-3870ff8e2188"
      },
      "execution_count": null,
      "outputs": [
        {
          "output_type": "stream",
          "name": "stdout",
          "text": [
            "Epoch 1/10\n",
            "1/1 [==============================] - 9s 9s/step - loss: 0.0000e+00 - accuracy: 0.0000e+00\n",
            "Epoch 2/10\n",
            "1/1 [==============================] - 0s 24ms/step - loss: 0.0000e+00 - accuracy: 0.0000e+00\n",
            "Epoch 3/10\n",
            "1/1 [==============================] - 0s 27ms/step - loss: 0.0000e+00 - accuracy: 0.0000e+00\n",
            "Epoch 4/10\n",
            "1/1 [==============================] - 0s 25ms/step - loss: 0.0000e+00 - accuracy: 0.0000e+00\n",
            "Epoch 5/10\n",
            "1/1 [==============================] - 0s 24ms/step - loss: 0.0000e+00 - accuracy: 0.0000e+00\n",
            "Epoch 6/10\n",
            "1/1 [==============================] - 0s 23ms/step - loss: 0.0000e+00 - accuracy: 0.0000e+00\n",
            "Epoch 7/10\n",
            "1/1 [==============================] - 0s 24ms/step - loss: 0.0000e+00 - accuracy: 0.0000e+00\n"
          ]
        }
      ]
    },
    {
      "cell_type": "code",
      "source": [
        "# 글자수 세기\n",
        "total_count = 0 \n",
        "\n",
        "with open('/content/drive/MyDrive/ITstudy/Project2/dataset/1990-2000_댄스.tsv') as f:\n",
        "  for i, line in enumerate(tqdm(f)):\n",
        "    total_count += 1\n",
        "print(total_count)"
      ],
      "metadata": {
        "colab": {
          "base_uri": "https://localhost:8080/",
          "height": 67,
          "referenced_widgets": [
            "dcaa5aabe0a54484a0d7c2bd233d5473",
            "580adc1564e8489db191916c82ce9405",
            "6952d7eabe5c4de695099ef993e622d3",
            "62220d60f91448b3a4a5e7ed97cbd70c",
            "c5b09b2670ae40c0a1cd2c10aca163be",
            "ab50fb554c774d3da0b569735b7d2cab",
            "0bbfe3a216354befb7bbc767aea448b5",
            "0c5f85bf5bfd441884665065f9653e95",
            "ba487aac335943d5ac11ff37dc493ad6",
            "e48b7da96452406f8c05ba67e6db98db",
            "4f9b6d9ac260442faa80c609fcf4da12"
          ]
        },
        "id": "jLgef4BiDKXo",
        "outputId": "182d1a34-9f5c-4f33-8e24-483ab958bf5b"
      },
      "execution_count": null,
      "outputs": [
        {
          "output_type": "display_data",
          "data": {
            "text/plain": [
              "0it [00:04, ?it/s]"
            ],
            "application/vnd.jupyter.widget-view+json": {
              "version_major": 2,
              "version_minor": 0,
              "model_id": "dcaa5aabe0a54484a0d7c2bd233d5473"
            }
          },
          "metadata": {}
        },
        {
          "output_type": "stream",
          "name": "stdout",
          "text": [
            "205\n"
          ]
        }
      ]
    },
    {
      "cell_type": "code",
      "source": [
        "# 빈도수 세기\n",
        "\n",
        "import collections \n",
        "word_counter = collections.Counter()\n",
        "word_counter.update(sentence.split())\n",
        "word_counter"
      ],
      "metadata": {
        "id": "mjrnPpfg05WK",
        "colab": {
          "base_uri": "https://localhost:8080/"
        },
        "outputId": "de79b1e1-1a35-434e-c83c-4c6a4ec909e7"
      },
      "execution_count": null,
      "outputs": [
        {
          "output_type": "execute_result",
          "data": {
            "text/plain": [
              "Counter({'1년을': 1,\n",
              "         'baby': 2,\n",
              "         'bye': 1,\n",
              "         'come': 2,\n",
              "         'e': 1,\n",
              "         'good': 1,\n",
              "         'goodbye': 1,\n",
              "         'hey': 34,\n",
              "         'love': 19,\n",
              "         'me': 1,\n",
              "         'n': 1,\n",
              "         'o': 2,\n",
              "         'on': 2,\n",
              "         'w': 1,\n",
              "         'y': 1,\n",
              "         'you': 54,\n",
              "         'you의': 1,\n",
              "         '가다가': 1,\n",
              "         '가자': 1,\n",
              "         '가지': 1,\n",
              "         '같지': 1,\n",
              "         '걸려고': 1,\n",
              "         '걸진': 1,\n",
              "         '것': 1,\n",
              "         '것만으로': 1,\n",
              "         '괜찮아요': 1,\n",
              "         '괜찮지': 1,\n",
              "         '그': 1,\n",
              "         '그게': 1,\n",
              "         '그냥': 1,\n",
              "         '그대': 3,\n",
              "         '그대로': 2,\n",
              "         '그대를': 1,\n",
              "         '그러는거': 1,\n",
              "         '그렇겠지': 1,\n",
              "         '그렇지': 1,\n",
              "         '기다렸는데': 1,\n",
              "         '꾸미고': 1,\n",
              "         '끌어': 1,\n",
              "         '나': 4,\n",
              "         '나는': 1,\n",
              "         '나를': 1,\n",
              "         '나만의': 1,\n",
              "         '난': 2,\n",
              "         '날려': 1,\n",
              "         '남자': 4,\n",
              "         '남자를': 1,\n",
              "         '내': 4,\n",
              "         '내가': 1,\n",
              "         '내게로': 2,\n",
              "         '내려': 1,\n",
              "         '내맘이': 1,\n",
              "         '너를': 4,\n",
              "         '너만': 1,\n",
              "         '너무': 1,\n",
              "         '너무나': 1,\n",
              "         '너와': 1,\n",
              "         '넘어지는': 1,\n",
              "         '네': 1,\n",
              "         '놓치기': 1,\n",
              "         '니가': 1,\n",
              "         '다쳤어요': 1,\n",
              "         '다쳤을라고': 1,\n",
              "         '달려': 1,\n",
              "         '달려가': 2,\n",
              "         '달려가서': 2,\n",
              "         '달력을': 1,\n",
              "         '도무지': 1,\n",
              "         '돌아가는': 1,\n",
              "         '됐겠어': 1,\n",
              "         '되니': 1,\n",
              "         '되어': 1,\n",
              "         '두근': 16,\n",
              "         '둘의': 1,\n",
              "         '들어가': 1,\n",
              "         '들었어': 1,\n",
              "         '때가': 2,\n",
              "         '떠나': 2,\n",
              "         '마음이': 1,\n",
              "         '말을': 2,\n",
              "         '맘이': 1,\n",
              "         '매일': 2,\n",
              "         '머릿속에': 1,\n",
              "         '멋있었어': 1,\n",
              "         '몇': 1,\n",
              "         '모두가': 1,\n",
              "         '목소리': 1,\n",
              "         '목소리는': 1,\n",
              "         '못했지만': 1,\n",
              "         '뭐야': 1,\n",
              "         '믿고': 1,\n",
              "         '바꼈구나': 1,\n",
              "         '바람에': 2,\n",
              "         '버려': 1,\n",
              "         '번째': 1,\n",
              "         '보내고': 2,\n",
              "         '보는': 1,\n",
              "         '보면': 1,\n",
              "         '본': 1,\n",
              "         '봤어': 1,\n",
              "         '부르며': 2,\n",
              "         '비집고': 1,\n",
              "         '빙글': 2,\n",
              "         '빠져': 1,\n",
              "         '빠져들곤': 1,\n",
              "         '삐뚤': 2,\n",
              "         '삐뚤인': 1,\n",
              "         '사람에': 1,\n",
              "         '사람을': 1,\n",
              "         '사람이': 1,\n",
              "         '사랑을': 5,\n",
              "         '사랑인': 1,\n",
              "         '사랑인줄': 1,\n",
              "         '사랑하고': 1,\n",
              "         '사랑하는거야': 1,\n",
              "         '사랑해': 6,\n",
              "         '사랑해요': 1,\n",
              "         '사이를': 1,\n",
              "         '살': 1,\n",
              "         '살아': 1,\n",
              "         '상상으로': 1,\n",
              "         '상상이나': 1,\n",
              "         '새': 1,\n",
              "         '새천년': 1,\n",
              "         '서': 1,\n",
              "         '설레이는': 2,\n",
              "         '수': 1,\n",
              "         '수가': 1,\n",
              "         '순수한': 3,\n",
              "         '시간': 1,\n",
              "         '시간이': 1,\n",
              "         '싫어하지': 1,\n",
              "         '아니': 2,\n",
              "         '않으면': 1,\n",
              "         '알': 1,\n",
              "         '알면서도': 1,\n",
              "         '앞까지': 1,\n",
              "         '얘기할까': 2,\n",
              "         '어느새': 1,\n",
              "         '어디라도': 1,\n",
              "         '어디선가': 1,\n",
              "         '어딨겠어': 1,\n",
              "         '어떻게': 1,\n",
              "         '어서오세요': 2,\n",
              "         '어쩔라구요': 1,\n",
              "         '어처구니': 1,\n",
              "         '언젠가': 1,\n",
              "         '얼굴도': 1,\n",
              "         '없어': 5,\n",
              "         '없이': 1,\n",
              "         '여자가': 1,\n",
              "         '영원토록': 3,\n",
              "         '영화처럼': 3,\n",
              "         '옆에': 1,\n",
              "         '오늘': 1,\n",
              "         '오늘을': 1,\n",
              "         '옷': 1,\n",
              "         '왔다': 2,\n",
              "         '위해': 3,\n",
              "         '이': 2,\n",
              "         '이게': 1,\n",
              "         '이러는거': 1,\n",
              "         '이루어질꺼라': 1,\n",
              "         '이름을': 2,\n",
              "         '이제': 16,\n",
              "         '이젠': 1,\n",
              "         '일년에': 1,\n",
              "         '일만에': 1,\n",
              "         '일으키는': 1,\n",
              "         '입고': 1,\n",
              "         '입도': 1,\n",
              "         '입을': 1,\n",
              "         '있는걸': 1,\n",
              "         '잡아야': 1,\n",
              "         '저': 4,\n",
              "         '저기': 2,\n",
              "         '적없는': 1,\n",
              "         '조금': 32,\n",
              "         '조금씩': 2,\n",
              "         '좋아': 3,\n",
              "         '지금은': 1,\n",
              "         '지내고': 1,\n",
              "         '집으로': 1,\n",
              "         '차근': 16,\n",
              "         '첫': 1,\n",
              "         '첫번째': 1,\n",
              "         '최대한': 1,\n",
              "         '코': 1,\n",
              "         '코도': 1,\n",
              "         '표현': 2,\n",
              "         '하고': 1,\n",
              "         '하나만': 3,\n",
              "         '하지': 1,\n",
              "         '하하하': 1,\n",
              "         '한': 1,\n",
              "         '할': 1,\n",
              "         '함께': 1,\n",
              "         '해': 2,\n",
              "         '해가': 1,\n",
              "         '혼자의': 1,\n",
              "         '화가나': 1})"
            ]
          },
          "metadata": {},
          "execution_count": 33
        }
      ]
    },
    {
      "cell_type": "code",
      "source": [
        "with open('/content/drive/MyDrive/ITstudy/Project2/dataset/1990-2000_댄스.tsv') as f:\n",
        "  for line in tqdm(f, total=total_count):\n",
        "      word_counter.update(list(line))"
      ],
      "metadata": {
        "colab": {
          "base_uri": "https://localhost:8080/",
          "height": 49,
          "referenced_widgets": [
            "90b79cef229843b789fdb574764a9748",
            "a9251ffcf4da4905928a251263132fdf",
            "c8dcb165c72840779038a9fcb3cbf502",
            "8e36c10f007947e7ace50d0c7d6f13d5",
            "7eea345bb5d14f1d8eaeefa14ba8f630",
            "ce3d0bfd079e4af98ea4a7e2f685c49a",
            "240fe52700814d5d9fb1fc1e501a08e0",
            "123854b554af4489a72943e68457aab6",
            "8036b898e14f40af8ebcd1bf2c218a4d",
            "18f8e22060084dc6b122c7f990f0e1f9",
            "84196442fc6a4a498cad9f9255bb39bb"
          ]
        },
        "id": "vwSS52f205YR",
        "outputId": "f8a59f38-b575-4066-e552-b7afe2aedc53"
      },
      "execution_count": null,
      "outputs": [
        {
          "output_type": "display_data",
          "data": {
            "text/plain": [
              "  0%|          | 0/205 [00:00<?, ?it/s]"
            ],
            "application/vnd.jupyter.widget-view+json": {
              "version_major": 2,
              "version_minor": 0,
              "model_id": "90b79cef229843b789fdb574764a9748"
            }
          },
          "metadata": {}
        }
      ]
    },
    {
      "cell_type": "code",
      "source": [
        "word_counter.items()"
      ],
      "metadata": {
        "id": "tc6S6vclGTKK",
        "colab": {
          "base_uri": "https://localhost:8080/"
        },
        "outputId": "a8b71fee-e2f2-4d20-f2d7-f4a159eb1baa"
      },
      "execution_count": null,
      "outputs": [
        {
          "output_type": "execute_result",
          "data": {
            "text/plain": [
              "dict_items([('hey', 34), ('you', 54), ('love', 19), ('첫번째', 1), ('내', 1343), ('남자', 4), ('그대로', 2), ('떠나', 2), ('보내고', 2), ('good', 1), ('bye', 1), ('저기', 2), ('저', 196), ('내게로', 2), ('어서오세요', 2), ('baby', 2), ('매일', 2), ('난', 549), ('한', 781), ('사람에', 1), ('빠져', 1), ('상상으로', 1), ('빠져들곤', 1), ('하지', 1), ('그렇지', 1), ('그', 1579), ('사람을', 1), ('위해', 3), ('살아', 1), ('가지', 1), ('어디선가', 1), ('본', 46), ('적없는', 1), ('어느새', 1), ('사람이', 1), ('되어', 1), ('머릿속에', 1), ('빙글', 2), ('사랑인', 1), ('것', 327), ('같지', 1), ('모두가', 1), ('그렇겠지', 1), ('도무지', 1), ('알', 220), ('수', 608), ('없어', 5), ('살', 179), ('수가', 1), ('일년에', 1), ('입을', 1), ('옷', 12), ('몇', 20), ('일만에', 1), ('입고', 1), ('너를', 4), ('놓치기', 1), ('싫어하지', 1), ('혼자의', 1), ('시간이', 1), ('어딨겠어', 1), ('나는', 1), ('너와', 1), ('함께', 1), ('하고', 1), ('지내고', 1), ('사랑하고', 1), ('나만의', 1), ('시간', 1), ('이젠', 1), ('날려', 1), ('버려', 1), ('그러는거', 1), ('아니', 2), ('이러는거', 1), ('상상이나', 1), ('되니', 1), ('어처구니', 1), ('없이', 1), ('돌아가는', 1), ('사랑인줄', 1), ('알면서도', 1), ('그냥', 1), ('보면', 1), ('좋아', 3), ('그게', 1), ('니가', 1), ('언젠가', 1), ('이루어질꺼라', 1), ('믿고', 1), ('지금은', 1), ('너만', 1), ('사랑하는거야', 1), ('두근', 16), ('설레이는', 2), ('이', 2998), ('맘이', 1), ('차근', 16), ('바람에', 2), ('얘기할까', 2), ('조금', 32), ('조금씩', 2), ('사랑을', 5), ('표현', 2), ('해', 1050), ('이제', 16), ('그대', 3), ('이름을', 2), ('부르며', 2), ('달려가', 2), ('영화처럼', 3), ('순수한', 3), ('영원토록', 3), ('나', 2253), ('하나만', 3), ('사랑해', 6), ('오늘', 1), ('너무나', 1), ('화가나', 1), ('코도', 1), ('삐뚤', 2), ('입도', 1), ('얼굴도', 1), ('삐뚤인', 1), ('여자가', 1), ('네', 255), ('옆에', 1), ('서', 672), ('있는걸', 1), ('봤어', 1), ('달려가서', 2), ('둘의', 1), ('사이를', 1), ('비집고', 1), ('들어가', 1), ('집으로', 1), ('달력을', 1), ('끌어', 1), ('내려', 1), ('보는', 1), ('것만으로', 1), ('해가', 1), ('바꼈구나', 1), ('때가', 2), ('왔다', 2), ('새천년', 1), ('새', 59), ('남자를', 1), ('잡아야', 1), ('할', 337), ('최대한', 1), ('꾸미고', 1), ('가자', 1), ('me', 1), ('y', 1063), ('e', 1989), ('o', 1794), ('w', 460), ('n', 997), ('come', 2), ('on', 2), ('첫', 16), ('번째', 1), ('goodbye', 1), ('내가', 1), ('어떻게', 1), ('됐겠어', 1), ('말을', 2), ('걸진', 1), ('못했지만', 1), ('you의', 1), ('목소리는', 1), ('들었어', 1), ('너무', 1), ('멋있었어', 1), ('걸려고', 1), ('코', 23), ('앞까지', 1), ('달려', 1), ('가다가', 1), ('넘어지는', 1), ('나를', 1), ('일으키는', 1), ('목소리', 1), ('괜찮아요', 1), ('하하하', 1), ('괜찮지', 1), ('않으면', 1), ('어쩔라구요', 1), ('어디라도', 1), ('다쳤을라고', 1), ('마음이', 1), ('다쳤어요', 1), ('오늘을', 1), ('1년을', 1), ('기다렸는데', 1), ('이게', 1), ('뭐야', 1), ('그대를', 1), ('사랑해요', 1), ('내맘이', 1), ('l', 674), ('r', 754), ('i', 891), ('c', 366), ('s', 704), ('\\n', 205), ('제', 557), (' ', 40848), ('모', 663), ('든', 253), ('걸', 303), ('다', 1419), ('시', 504), ('작', 96), ('겐', 78), ('아', 1739), ('직', 148), ('도', 1086), ('간', 266), ('있', 776), ('어', 2280), ('때', 221), ('론', 37), ('상', 443), ('처', 239), ('가', 1898), ('좌', 5), ('절', 47), ('로', 703), ('남', 164), ('돌', 164), ('킬', 20), ('없', 792), ('는', 1904), ('후', 74), ('회', 41), ('하', 1424), ('고', 1422), ('러', 187), ('우', 430), ('리', 927), ('잊', 178), ('선', 58), ('안', 283), ('돼', 88), ('지', 2127), ('금', 290), ('의', 966), ('닌', 32), ('신', 134), ('문', 55), ('에', 1449), ('실', 84), ('려', 433), ('온', 77), ('얘', 84), ('기', 809), ('들', 620), ('헝', 2), ('클', 12), ('진', 207), ('을', 1430), ('탓', 14), ('순', 138), ('렇', 235), ('게', 1361), ('여', 277), ('끝', 109), ('낼', 27), ('멈', 24), ('출', 17), ('워', 355), ('두', 462), ('사', 1129), ('랑', 802), ('자', 533), ('젊', 11), ('은', 891), ('날', 564), ('위', 204), ('춤', 48), ('추', 97), ('벼', 10), ('운', 165), ('인', 317), ('스', 126), ('텝', 6), ('속', 382), ('대', 509), ('와', 311), ('함', 195), ('께', 197), ('무', 407), ('입', 44), ('거', 529), ('를', 933), ('걷', 11), ('보', 571), ('면', 457), ('쳐', 92), ('람', 193), ('받', 58), ('만', 1107), ('름', 118), ('연', 89), ('감', 100), ('갖', 21), ('떤', 42), ('맘', 184), ('오', 425), ('늘', 232), ('댄', 13), ('뮤', 1), ('좋', 140), ('동', 55), ('차', 154), ('번', 146), ('청', 6), ('바', 367), ('당', 36), ('장', 64), ('런', 224), ('재', 15), ('밌', 4), ('떠', 230), ('친', 155), ('구', 232), ('솔', 14), ('말', 592), ('봐', 260), ('괜', 42), ('찮', 34), ('으', 291), ('니', 740), ('까', 407), ('뭐', 122), ('힘', 118), ('요', 437), ('꾸', 82), ('밈', 2), ('더', 201), ('늦', 17), ('전', 123), ('둠', 15), ('천', 42), ('히', 144), ('디', 209), ('듯', 47), ('야', 869), ('릇', 3), ('느', 197), ('낌', 47), ('비', 186), ('젖', 5), ('싸', 22), ('얼', 66), ('버', 274), ('린', 202), ('깨', 51), ('Z', 12), ('A', 61), ('M', 92), ('예', 138), ('멀', 76), ('림', 24), ('습', 171), ('표', 34), ('정', 242), ('앞', 75), ('또', 128), ('른', 125), ('조', 191), ('용', 43), ('라', 704), ('갑', 15), ('명', 61), ('소', 178), ('떡', 29), ('건', 185), ('관', 37), ('일', 325), ('쨌', 4), ('벗', 13), ('했', 374), ('었', 396), ('적', 69), ('막', 52), ('뒤', 45), ('험', 6), ('빠', 44), ('데', 178), ('답', 73), ('즘', 20), ('흥', 3), ('뭔', 19), ('잘', 83), ('몰', 101), ('줄', 192), ('겠', 193), ('겉', 9), ('생', 267), ('각', 223), ('주', 285), ('유', 90), ('롭', 32), ('싶', 197), ('석', 16), ('특', 8), ('별', 88), ('같', 239), ('마', 608), ('많', 139), ('원', 186), ('변', 99), ('왔', 103), ('란', 92), ('결', 29), ('닐', 17), ('쁘', 21), ('투', 25), ('덜', 4), ('화', 97), ('잠', 55), ('큰', 40), ('턱', 1), ('낸', 15), ('계', 26), ('산', 13), ('땐', 22), ('활', 13), ('르', 118), ('미', 213), ('짓', 44), ('현', 24), ('잃', 29), ('음', 356), ('엔', 88), ('따', 76), ('뜻', 26), ('껴', 55), ('슈', 24), ('툴', 3), ('털', 11), ('카', 6), ('페', 4), ('설', 66), ('똑', 19), ('럼', 154), ('앉', 18), ('너', 1450), ('슨', 15), ('단', 90), ('래', 300), ('웃', 64), ('며', 189), ('싫', 69), ('증', 30), ('밤', 65), ('흐', 19), ('누', 100), ('군', 23), ('못', 144), ('렸', 72), ('웠', 32), ('슬', 111), ('픔', 65), ('겨', 88), ('발', 58), ('부', 235), ('였', 59), ('잖', 117), ('세', 232), ('울', 92), ('키', 30), ('픈', 69), ('향', 52), ('몸', 40), ('숨', 46), ('눈', 336), ('물', 179), ('곤', 16), ('렵', 14), ('편', 19), ('쓰', 42), ('않', 253), ('영', 128), ('흠', 6), ('꼈', 20), ('항', 69), ('언', 158), ('움', 80), ('백', 26), ('냐', 40), ('큼', 53), ('낄', 45), ('록', 82), ('-', 33), ('중', 58), ('깊', 41), ('냥', 80), ('색', 24), ('탁', 21), ('심', 86), ('씩', 57), ('져', 164), ('젠', 151), ('달', 110), ('켜', 60), ('필', 76), ('던', 415), ('터', 66), ('듣', 21), ('짧', 15), ('억', 125), ('줘', 223), ('았', 125), ('텅', 2), ('쉽', 37), ('빨', 18), ('뿐', 107), ('될', 55), ('밖', 42), ('1', 30), ('2', 22), ('3', 18), ('D', 54), ('J', 8), ('뺏', 7), ('믿', 92), ('틀', 19), ('널', 329), ('췄', 2), ('과', 82), ('목', 39), ('볼', 47), ('슴', 98), ('떨', 19), ('홀', 16), ('레', 44), ('임', 48), ('졌', 39), ('풀', 17), ('얀', 34), ('득', 44), ('둔', 18), ('맑', 18), ('담', 27), ('긴', 76), ('넌', 151), ('성', 30), ('척', 38), ('파', 42), ('왜', 101), ('릴', 89), ('올', 37), ('곳', 51), ('접', 5), ('즐', 16), ('반', 43), ('채', 54), ('헤', 57), ('창', 11), ('침', 34), ('뜨', 22), ('짜', 37), ('릿', 12), ('매', 69), ('쩌', 19), ('길', 148), ('칠', 36), ('루', 101), ('꼭', 29), ('.', 47), ('포', 44), ('쳤', 19), ('멋', 34), ('났', 53), ('왠', 18), ('취', 9), ('꿈', 127), ('확', 24), ('존', 11), ('분', 50), ('깐', 5), ('뿌', 8), ('식', 23), ('a', 1321), ('m', 657), ('곁', 103), ('쉬', 23), ('외', 59), ('희', 20), ('럽', 21), ('된', 82), ('욘', 5), ('촌', 1), ('딘', 6), ('센', 1), ('닮', 23), ('갈', 102), ('냉', 7), ('격', 6), ('급', 3), ('뎌', 4), ('꽤', 1), ('노', 40), ('력', 7), ('됐', 52), ('꿔', 17), ('샤', 43), ('랍', 1), ('흘', 50), ('갔', 58), ('련', 11), ('봤', 33), ('덧', 1), ('공', 26), ('님', 13), ('먹', 24), ('돈', 25), ('샀', 3), ('쑥', 4), ('꺼', 88), ('념', 9), ('째', 15), ('끼', 59), ('줬', 19), ('싼', 5), ('뻐', 10), ('혼', 110), ('놀', 15), ('빛', 82), ('웬', 6), ('망', 62), ('놓', 31), ('초', 21), ('걱', 18), ('민', 18), ('테', 45), ('개', 44), ('찾', 131), ('월', 13), ('W', 39), ('t', 1117), ('X', 6), ('u', 790), ('b', 378), ('I', 197), ('f', 253), ('g', 385), ('d', 418), ('피', 59), ('h', 837), ('되', 150), ('악', 22), ('엇', 25), ('럴', 39), ('굳', 20), ('체', 30), ('방', 35), ('황', 16), ('착', 31), ('덕', 8), ('맞', 39), ('메', 12), ('잡', 58), ('환', 31), ('낯', 12), ('익', 7), ('쯤', 16), ('년', 32), ('짝', 26), ('긍', 2), ('맺', 1), ('준', 57), ('낙', 1), ('엽', 2), ('룰', 12), ('눠', 2), ('밀', 20), ('질', 87), ('법', 15), ('섞', 7), ('첩', 3), ('칸', 1), ('꿀', 6), ('땜', 6), ('혀', 82), ('삶', 24), ('떻', 44), ('겁', 7), ('복', 119), ('귀', 20), ('극', 11), ('족', 6), ('끔', 29), ('열', 48), ('붙', 14), ('녀', 117), ('행', 118), ('빌', 8), ('옛', 8), ('랬', 28), ('불', 66), ('박', 12), ('햇', 17), ('흔', 35), ('숙', 10), ('갇', 43), ('약', 63), ('닷', 4), ('얗', 14), ('춰', 41), ('강', 11), ('둘', 44), ('애', 62), ('맴', 7), ('충', 9), ('짐', 13), ('켓', 6), ('넣', 5), ('깰', 5), ('치', 83), ('넬', 5), ('근', 117), ('쩍', 6), ('댈', 42), ('랫', 9), ('참', 51), ('빙', 9), ('택', 14), ('랐', 43), ('퍼', 24), ('먼', 43), ('프', 33), ('타', 58), ('섭', 2), ('욕', 16), ('뤄', 6), ('통', 45), ('령', 4), ('놨', 1), ('뀌', 5), ('국', 17), ('책', 38), ('싱', 3), ('잔', 26), ('찌', 8), ('응', 5), ('꼬', 12), ('글', 18), ('쎄', 4), ('팔', 8), ('엉', 3), ('허', 26), ('싹', 7), ('손', 44), ('락', 20), ('엄', 5), ('찍', 5), ('검', 13), ('양', 28), ('토', 22), ('얄', 1), ('밉', 1), ('퀴', 1), ('랄', 94), ('배', 28), ('죽', 41), ('교', 17), ('턴', 8), ('휴', 1), ('흉', 1), ('땁', 1), ('쟁', 1), ('콤', 4), ('굴', 24), ('혈', 1), ('액', 1), ('형', 15), ('집', 24), ('호', 14), ('삐', 25), ('태', 31), ('O', 107), ('T', 85), ('G', 70), ('쩔', 24), ('점', 22), ('크', 54), ('Y', 86), ('U', 35), ('S', 76), ('C', 84), ('E', 84), ('B', 61), ('K', 22), ('H', 81), ('완', 13), ('압', 2), ('품', 25), ('닦', 8), ('N', 29), ('P', 11), ('L', 39), ('R', 22), ('철', 4), ('캄', 6), ('윈', 18), ('쓸', 7), ('견', 19), ('냈', 10), ('괴', 10), ('광', 5), ('경', 13), ('좀', 35), ('램', 13), ('벽', 10), ('넘', 16), ('텐', 18), ('깔', 1), ('뒷', 6), ('왕', 9), ('병', 4), ('혹', 22), ('맹', 5), ('써', 30), ('머', 58), ('랜', 5), ('팅', 2), ('섰', 4), ('씨', 3), ('튼', 4), ('십', 2), ('뻤', 5), ('컸', 2), ('렀', 2), ('드', 30), ('줍', 5), ('학', 12), ('껏', 16), ('쁜', 29), ('\"', 16), ('!', 43), (',', 59), ('뛰', 16), ('등', 7), ('읽', 1), ('쓴', 5), ('훗', 5), ('북', 2), ('찬', 14), ('뭘', 3), ('딨', 5), ('벌', 15), ('뭉', 2), ('쪽', 7), ('커', 20), ('~', 60), ('밟', 15), ('맡', 16), ('튕', 23), ('6', 3), ('녔', 4), ('썼', 1), ('댔', 3), ('낀', 5), ('논', 2), ('p', 182), ('k', 180), ('Q', 4), ('v', 304), ('높', 23), ('트', 15), ('킹', 5), ('닥', 6), ('판', 2), ('맨', 17), ('듬', 7), ('겹', 7), ('륨', 1), ('찢', 2), ('뼉', 1), ('술', 19), ('넓', 19), ('팠', 4), ('춘', 6), ('끗', 8), ('콜', 2), ('썸', 1), ('씽', 1), ('옆', 16), ('패', 11), ('빼', 14), ('앗', 6), ('낱', 2), ('팍', 6), ('4', 7), ('죄', 6), ('밥', 3), ('퍽', 1), ('쇳', 1), ('셔', 6), ('혔', 4), ('종', 16), ('염', 2), ('빚', 2), ('탕', 3), ('플', 7), ('V', 12), ('욱', 9), ('독', 5), ('빤', 3), ('최', 10), ('류', 2), ('씻', 4), ('낫', 4), ('폭', 2), ('섬', 2), ('톤', 1), ('힌', 6), ('킨', 2), ('핀', 4), ('셋', 7), ('뚤', 10), ('딜', 17), ('슷', 1), ('칼', 1), ('폼', 20), ('콩', 5), ('깍', 1), ('씌', 1), ('귓', 2), ('뚫', 4), ('삭', 4), ('씬', 2), ('궂', 1), ('봉', 1), ('끌', 15), ('범', 2), ('멜', 1), ('궁', 5), ('흰', 6), ('돋', 1), ('곰', 2), ('몬', 4), ('챙', 6), ('틸', 4), ('훤', 1), ('맬', 1), ('녈', 8), ('역', 10), ('껀', 2), ('뻔', 2), ('햄', 1), ('껄', 2), ('녁', 1), ('헷', 1), ('떼', 5), ('껌', 2), ('능', 2), ('둬', 7), ('쇼', 2), ('섣', 1), ('졸', 5), ('업', 3), ('묻', 17), ('뺨', 5), ('x', 21), ('훌', 1), ('끊', 10), ('훨', 4), ('갤', 1), ('펴', 6), ('쁨', 11), ('밝', 13), ('힐', 1), ('샵', 3), ('삽', 5), ('눅', 2), ('렴', 4), ('얽', 3), ('?', 11), ('霞', 2), ('瘠', 2), ('〉', 2), ('홧', 1), ('김', 4), ('깎', 2), ('빡', 2), ('녕', 5), ('삼', 7), ('딪', 5), ('땅', 6), ('끈', 2), ('텨', 3), ('뚜', 3), ('쫓', 2), ('쭉', 2), ('풍', 5), ('봄', 1), ('꽂', 1), ('꼼', 2), ('썬', 2), ('몽', 4), ('꾼', 1), ('멘', 1), ('댓', 1), ('*', 3), ('겪', 2), ('죠', 63), ('0', 15), ('9', 4), ('8', 2), ('7', 1), ('5', 2), ('낡', 1), ('혁', 1), ('틈', 6), ('헛', 2), ('끓', 1), ('닫', 4), ('엾', 3), ('평', 11), ('눌', 1), ('j', 36), ('q', 3), ('닿', 8), ('툰', 2), ('띄', 3), ('싣', 9), ('윌', 1), ('뒀', 2), ('붐', 2), ('팡', 2), ('쿨', 8), ('곱', 1), ('축', 10), ('딱', 5), ('젯', 1), ('징', 12), ('뚝', 4), ('껑', 1), ('땡', 3), ('쏴', 3), ('윽', 1), ('팽', 8), ('뽀', 4), ('꼴', 2), ('궤', 1), ('펼', 5), ('므', 1), ('얻', 3), ('쪄', 1), ('밑', 5), ('량', 1), ('쥐', 2), ('멸', 1), ('炳', 1), ('멍', 4), ('쌍', 3), ('톨', 3), ('줌', 1), ('튀', 1), ('얇', 1), ('셨', 5), ('낭', 3), ('낮', 1), ('묶', 2), ('권', 3), ('빗', 9), ('릎', 1), ('꿇', 1), ('빈', 4), ('덥', 1), ('덤', 5), ('썰', 3), ('렁', 2), ('냇', 1), ('첨', 3), ('벙', 2), ('덩', 1), ('둑', 1), ('깡', 2), ('총', 2), ('툭', 4), ('곧', 2), ('맥', 2), ('탑', 1), ('뜯', 1), ('꺾', 1), ('딴', 5), ('겼', 6), ('촛', 2), ('꽃', 17), ('쉴', 4), ('탱', 1), ('붕', 4), ('립', 1), ('틱', 4), ('찡', 2), ('F', 21), ('땀', 3), ('굿', 4), ('송', 5), ('녹', 6), ('뒹', 1), ('렌', 1), ('즈', 3), ('넷', 2), ('랠', 2), ('잤', 1), ('귄', 3), ('긋', 7), ('쏙', 1), ('웨', 2), ('딩', 1), ('셈', 3), ('둥', 1), ('칵', 1), ('넋', 1), ('놔', 1), ('찰', 2), ('쾌', 2), ('샴', 2), ('푸', 2), ('암', 3), ('뛴', 4), ('’', 2), ('합', 1), ('맛', 1), ('닉', 1), ('닝', 1), ('베', 5), ('쌓', 6), ('잭', 1), ('티', 3), ('푼', 1), ('볕', 3), ('굶', 2), ('벅', 2), ('값', 2), ('꽉', 2), ('쉿', 1), ('뵈', 2), ('춧', 1), ('잎', 3), ('승', 2), ('몫', 3), ('탈', 2), ('앓', 1), ('골', 3), ('핑', 3), ('롤', 2), ('톡', 1), ('쏘', 1), ('끄', 6), ('룻', 1), ('`', 4), ('핸', 1), ('폰', 1), ('샘', 1), ('늑', 1), ('앨', 5), ('헌', 1), ('z', 14), ('듭', 1), ('샌', 1), ('탄', 5), ('섯', 2), ('챌', 1), ('맣', 3), ('쩜', 3), ('빰', 1), ('멤', 1), ('웅', 2), ('챔', 7), ('브', 1), ('섹', 1), ('앙', 1), ('퀸', 1), ('뜸', 1), ('놈', 1), ('짱', 1), ('뚱', 1), ('례', 1), ('칫', 2), ('槁', 1), ('탐', 3), ('츠', 1), ('댕', 1), ('뀔', 1), ('뜰', 1), ('붉', 2), ('퐁', 4), ('잉', 4), ('룩', 4), ('쁠', 1), ('휠', 1), ('툼', 1), ('뉴', 1), ('츰', 1), ('쌈', 2), ('넒', 1), ('샹', 5), ('랩', 1), ('밍', 2), ('꿋', 2), ('썽', 1), ('팀', 1), ('팜', 96), ('헐', 1)])"
            ]
          },
          "metadata": {},
          "execution_count": 35
        }
      ]
    }
  ]
}